{
 "cells": [
  {
   "cell_type": "code",
   "execution_count": null,
   "metadata": {},
   "outputs": [],
   "source": [
    "import pandas as pd\n",
    "import numpy as pd\n",
    "%matplotlib inline"
   ]
  },
  {
   "cell_type": "code",
   "execution_count": null,
   "metadata": {
    "code_folding": [
     0
    ]
   },
   "outputs": [],
   "source": [
    "def ratios_total_participaciones_oros(medallas):\n",
    "    \"\"\"\n",
    "    Devuelve una serie de pandas, en orden descendente, con el\n",
    "    ratio: total participaciones / total medallas de oro ganadas\n",
    "    por cada país\n",
    "    \"\"\"\n",
    "    \n",
    "    ########################################\n",
    "    #\n",
    "    #\n",
    "    #  CÓDIGO DE LA FUNCIÓN\n",
    "    #\n",
    "    #\n",
    "    ########################################\n",
    "\n",
    "    return (medallas.combinados.oro/medallas.combinados.participaciones).\\\n",
    "            map(lambda x: x if np.isfinite(x) else 0).sort_values(ascending = False)"
   ]
  },
  {
   "cell_type": "code",
   "execution_count": 10,
   "metadata": {
    "code_folding": [
     0
    ]
   },
   "outputs": [],
   "source": [
    "def estaciones(medallas):\n",
    "    \"\"\"\n",
    "    Devuelve una serie de pandas con la palabra 'invierno' is el país ha ganado más medallas de invierno que de\n",
    "    verano o 'verano' en caso contrario\n",
    "    \"\"\"\n",
    "    ########################################\n",
    "    #\n",
    "    #\n",
    "    #  CÓDIGO DE LA FUNCIÓN\n",
    "    #\n",
    "    #\n",
    "    ########################################\n",
    "    \n",
    "    return (medallas.invierno.total > medallas.verano.total).map({True: \"invierno\", False: \"verano\"})"
   ]
  },
  {
   "cell_type": "code",
   "execution_count": 11,
   "metadata": {
    "code_folding": [
     0
    ]
   },
   "outputs": [],
   "source": [
    "def porcentajes(medals):\n",
    "    \"\"\"        \n",
    "    Devuelve un dataframe con el porcentaje de medallas \n",
    "    de cada metal en lugar del número total de ellas\n",
    "    \n",
    "    Ejemplo:\n",
    "    \n",
    "        Valor original: \n",
    "        \n",
    "        Bohemia \t0\t1\t3\n",
    "        \n",
    "        Esperado:   \n",
    "        Bohemia     0\t25\t75\n",
    "\n",
    "    \"\"\"\n",
    "    ########################################\n",
    "    #\n",
    "    #\n",
    "    #  CÓDIGO DE LA FUNCIÓN\n",
    "    #\n",
    "    #\n",
    "    ########################################\n",
    "    \n",
    "    for temporada in [\"verano\", \"invierno\", \"combinados\"]:\n",
    "        for cols in medals.loc[:, temporada].columns[1:-1]:\n",
    "            medals.loc[:, (temporada, cols)] = medals.loc[:, (temporada, cols)]/medals.loc[:, (temporada, \"total\")]*100\n",
    "        \n",
    "    return medals"
   ]
  },
  {
   "cell_type": "code",
   "execution_count": null,
   "metadata": {
    "code_folding": [],
    "scrolled": false
   },
   "outputs": [],
   "source": [
    "def ordenar_por_ratio(medallas):\n",
    "    \"\"\"\n",
    "    Función que devuelve un dataframe con los países ordenados\n",
    "    de forma descendente según la suma de las medallas aplicándoles\n",
    "    los siguientes pesos:\n",
    "        * 1 medalla de oro en verano = 5\n",
    "        * 1 medalla de plata en verano = 3.5\n",
    "        * 1 medalla de bronce en verano = 1.5\n",
    "        * 1 medalla de oro en invierno = 4.5\n",
    "        * 1 medalla de plata en invierno = 3\n",
    "        * 1 medalla de bronce en invierno = 1\n",
    "    \"\"\"\n",
    "    ########################################\n",
    "    #\n",
    "    #\n",
    "    #  CÓDIGO DE LA FUNCIÓN\n",
    "    #\n",
    "    #\n",
    "    ########################################\n",
    "    \n",
    "    # En esta función se ha tenido en cuenta el comportamiento de los diccionarios introducido en las nuevas\n",
    "    # versiones de python por el cual el orden de las claves respeta el orden de introducción de los elementos\n",
    "    # en el diccionario.\n",
    "    # Para versiones anteriores de python que no integren este comportamiento, una posible solución sería,\n",
    "    # sustituir las dos primeras líneas del código siguiente por un simple diccionario creado ad-hoc. eg:\n",
    "    #    map  = {('verano', 'oro'): 5,\n",
    "    #           ('verano', 'plata'): 3.5,\n",
    "    #           ('verano', 'bronce'): 1.5,\n",
    "    #           ('invierno', 'oro'): 4.5,\n",
    "    #           ('invierno', 'plata'): 3,\n",
    "    #           ('invierno', 'bronce'): 1} \n",
    "    \n",
    "    sw = [t for t in medallas.columns if t[1] in [\"oro\", \"plata\", \"bronce\"] if t[0] not in [\"combinados\"]]\n",
    "    dic = {key: val for (key,val) in zip(sw, [5, 3.5, 1.5, 4.5, 3, 1])}\n",
    "    \n",
    "    for key, val in dic.items():\n",
    "        medallas.loc[:, key] = medallas.loc[:, key]*val\n",
    "        \n",
    "    return pd.DataFrame(medallas.loc[:, sw].sum(axis=1).sort_values(ascending=False))"
   ]
  },
  {
   "cell_type": "code",
   "execution_count": 6,
   "metadata": {
    "code_folding": []
   },
   "outputs": [],
   "source": [
    "def insertar_rankings_totales(medallas):\n",
    "    \"\"\"\n",
    "    Returns a new dataframe with tree new colums:\n",
    "    (summer, total_rank)\n",
    "    (winter, total_rank)\n",
    "    (combined, total_rank)\n",
    "    \n",
    "    Each column will have the position in the ranking of the country in total medals of the category \n",
    "    (summer, winter, combined)\n",
    "    \n",
    "    \"\"\"\n",
    "    \n",
    "    ########################################\n",
    "    #\n",
    "    #\n",
    "    #  CÓDIGO DE LA FUNCIÓN\n",
    "    #\n",
    "    #\n",
    "    ########################################\n",
    " \n",
    "    medallas = medallas[[('verano', 'total'), ('invierno', 'total'), \\\n",
    "                         ('combinados', 'total')]].rank(ascending=False, method='first')\n",
    "    medallas.columns = [['verano', 'invierno', 'combinados' ], ['total_rank', 'total_rank', 'total_rank']]\n",
    "    \n",
    "    return medallas"
   ]
  }
 ],
 "metadata": {
  "kernelspec": {
   "display_name": "Python 3",
   "language": "python",
   "name": "python3"
  },
  "language_info": {
   "codemirror_mode": {
    "name": "ipython",
    "version": 3
   },
   "file_extension": ".py",
   "mimetype": "text/x-python",
   "name": "python",
   "nbconvert_exporter": "python",
   "pygments_lexer": "ipython3",
   "version": "3.7.4"
  }
 },
 "nbformat": 4,
 "nbformat_minor": 2
}
