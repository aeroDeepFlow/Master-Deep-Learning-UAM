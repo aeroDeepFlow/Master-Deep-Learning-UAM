{
 "cells": [
  {
   "cell_type": "code",
   "execution_count": 1,
   "metadata": {},
   "outputs": [],
   "source": [
    "from bs4 import BeautifulSoup\n",
    "import pandas as pd\n",
    "import requests\n",
    "import numpy as np\n",
    "from bokeh.io import show, output_notebook\n",
    "\n",
    "from bokeh.plotting import figure\n",
    "\n",
    "import seaborn as sns\n",
    "import matplotlib.pylab as pyplot"
   ]
  },
  {
   "cell_type": "code",
   "execution_count": 2,
   "metadata": {},
   "outputs": [],
   "source": [
    "def get_world_population(table_title, url):\n",
    "    \"\"\"\n",
    "    Obtener una tabla con el nombre especificado en la URL pasada y devolverla como dataframe\n",
    "    \"\"\"\n",
    "    ########### Su código\n",
    "    try:\n",
    "        pd.read_html(url, match=table_title, attrs={\"class\": \"wikitable sortable\"})\n",
    "    finally:\n",
    "        title = table_title + \"*\"\n",
    "        \n",
    "        return pd.read_html(url, match=title, attrs={\"class\": \"wikitable sortable\"})[0].set_index('Region')"
   ]
  },
  {
   "cell_type": "code",
   "execution_count": 3,
   "metadata": {},
   "outputs": [],
   "source": [
    "def get_estimations_json(population_table, dest_file):\n",
    "    \"\"\"\n",
    "    Recibe un dataframe con la población, devolder un json solo con los años estimados (los posteriores al actual)\n",
    "    \"\"\"\n",
    "    ########### Su código\n",
    "\n",
    "    # Se supone que éste es el año actual de acuerdo a la función de comprobación en archivo TEST. ¿Pasarlo como \n",
    "    # parámetro de la función?\n",
    "    current_year = 2019 \n",
    "    \n",
    "    return population_table.loc[:, population_table.columns.astype('int64') > current_year].to_json(dest_file)"
   ]
  },
  {
   "cell_type": "code",
   "execution_count": 4,
   "metadata": {},
   "outputs": [],
   "source": [
    "def get_bokeh(df):\n",
    "    \"\"\"\n",
    "    Obtener un simple gráfico con la librería bokeh comparando la evolución de la población por continentes\n",
    "    \"\"\"\n",
    "    \n",
    "    colors = [\"coral\", \"darkblue\", \"dimgray\", \"fuchsia\", \"gold\", \"red\", \"yellow\"]\n",
    "    \n",
    "    ########### Su código\n",
    "    from bokeh.plotting import figure, show\n",
    "    from bokeh.io import output_notebook\n",
    "\n",
    "    p = figure(x_axis_label='Year', y_axis_label='Population')\n",
    "\n",
    "    Region = df.index.to_list()\n",
    "\n",
    "    for region, color in zip(Region, colors):\n",
    "        p.line(df.columns, df.loc[region, \"1500\":], line_width=2, color=color, legend_label=region)\n",
    "\n",
    "    p.legend.location = \"top_left\"\n",
    "    p.title.text = 'World historical and predicted populations'\n",
    "    \n",
    "    output_notebook()\n",
    "    \n",
    "    show(p)"
   ]
  },
  {
   "cell_type": "code",
   "execution_count": 5,
   "metadata": {},
   "outputs": [],
   "source": [
    "def get_seaborn(df):\n",
    "    \"\"\"\n",
    "    Obtener un simple gráfico con la librería seaborn comparando la evolución de la población por continentes\n",
    "    \"\"\"\n",
    "    ########### Su código\n",
    "    \n",
    "    df = df.reset_index().melt('Region', var_name = 'Year', value_name = 'Population')\n",
    "    \n",
    "    sns.set(rc={'figure.figsize':(12,12)})\n",
    "    \n",
    "    sns.lineplot(x='Year', y='Population', hue='Region', data=df)"
   ]
  },
  {
   "cell_type": "code",
   "execution_count": 6,
   "metadata": {},
   "outputs": [],
   "source": [
    "def get_excel(df, nombre):\n",
    "    \"\"\"\n",
    "    Volcar el dataframe pasado a una hoja de cálculo con los siguientes coloreando de:\n",
    "        verde: Población por debajo de 100 millones de personas.\n",
    "        rojo: Poblaciones por encima de 100 millones de personas.\n",
    "        \n",
    "    Estos colores son solo aplicables a continentes, no al total del mundo.\n",
    "    \"\"\"\n",
    "    ###########Your code\n",
    "    \n",
    "    \n",
    "    ##############################################COMENTARIOS#########################################\n",
    "    #El resultado que se espera para esta función y el que es mostrado en la imagen del archivo TEST #\n",
    "    #(parece que el resultado debería ser \"ROJO\" para valores >1000 y \"VERDE\" para valores <100)     #\n",
    "    #no se corresponde con lo que en teoría se pide en en enunciado de la función get_excel (\"ROJO\"  #\n",
    "    #para valores >100 y \"VERDE\" para valores <100). Como no queda claro qué es lo que debería ser   #\n",
    "    #se opta por implimentar la función para que el resultado sea similar al mostrado en la imagen   #\n",
    "    #(primera opción), que en teoría debería, dar. De todas formas se codifica la función que debería# \n",
    "    #implementarse en el caso de que la opción correcta sea la que se enuncia en la función get_excel# \n",
    "    #(segunda opción). Para su uso hay que comentar la línea considerada como la primera opción y    #\n",
    "    #descomentar la segunda opción.                                                                  #  \n",
    "    ##################################################################################################\n",
    "    \n",
    "    # Primera Opción\n",
    "    transformer = lambda x : f\"color: {'red' if x > 1000 else ('green' if x < 100 else 'black')}\"\n",
    "    \n",
    "    # Segunda Opción\n",
    "    #transformer = lambda x : f\"color: {'red' if x > 1000 else 'green'}\"\n",
    "\n",
    "    return df.style.applymap(transformer, subset=pd.IndexSlice[df.index[1:], :]).to_excel(nombre)"
   ]
  },
  {
   "cell_type": "code",
   "execution_count": null,
   "metadata": {},
   "outputs": [],
   "source": []
  }
 ],
 "metadata": {
  "kernelspec": {
   "display_name": "Python 3.7.6 64-bit ('base': conda)",
   "language": "python",
   "name": "python37664bitbaseconda0d06624c63c447639283d7e5e1c15c32"
  },
  "language_info": {
   "codemirror_mode": {
    "name": "ipython",
    "version": 3
   },
   "file_extension": ".py",
   "mimetype": "text/x-python",
   "name": "python",
   "nbconvert_exporter": "python",
   "pygments_lexer": "ipython3",
   "version": "3.7.6"
  }
 },
 "nbformat": 4,
 "nbformat_minor": 2
}
