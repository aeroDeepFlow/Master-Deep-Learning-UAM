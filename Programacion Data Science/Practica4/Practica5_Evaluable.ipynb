{
 "cells": [
  {
   "cell_type": "code",
   "execution_count": 1,
   "metadata": {},
   "outputs": [],
   "source": [
    "from bs4 import BeautifulSoup\n",
    "import pandas as pd\n",
    "import requests\n",
    "import numpy as np\n",
    "from bokeh.io import show, output_notebook\n",
    "\n",
    "from bokeh.plotting import figure\n",
    "\n",
    "import seaborn as sns\n",
    "import matplotlib.pylab as pyplot"
   ]
  },
  {
   "cell_type": "code",
   "execution_count": 2,
   "metadata": {},
   "outputs": [],
   "source": [
    "def get_world_population(table_title, url):\n",
    "    \"\"\"\n",
    "    Obtener una tabla con el nombre especificado en la URL pasada y devolverla como dataframe\n",
    "    \"\"\"\n",
    "    ########### Su código\n",
    "    try:\n",
    "        pd.read_html(url, match=table_title, attrs={\"class\": \"wikitable sortable\"}) # \"wikitable sortable\"(tablas)\n",
    "    finally:\n",
    "        title = table_title + \"*\"\n",
    "        \n",
    "        return pd.read_html(url, match=title, attrs={\"class\": \"wikitable sortable\"})[0].set_index('Region')"
   ]
  },
  {
   "cell_type": "code",
   "execution_count": 3,
   "metadata": {},
   "outputs": [],
   "source": [
    "def get_estimations_json(population_table, dest_file):\n",
    "    \"\"\"\n",
    "    Recibe un dataframe con la población, devolder un json solo con los años estimados (los posteriores al actual)\n",
    "    \"\"\"\n",
    "    ########### Su código\n",
    "\n",
    "    current_year = 2019 # extraer año por funciones\n",
    "    return population_table.loc[:, population_table.columns.astype('int64') > current_year].to_json(dest_file)"
   ]
  },
  {
   "cell_type": "code",
   "execution_count": 4,
   "metadata": {},
   "outputs": [],
   "source": [
    "def get_bokeh(df):\n",
    "    \"\"\"\n",
    "    Obtener un simple gráfico con la librería bokeh comparando la evolución de la población por continentes\n",
    "    \"\"\"\n",
    "    \n",
    "    colors = [\n",
    "        \"coral\", \n",
    "        \"darkblue\", \n",
    "        \"dimgray\", \n",
    "        \"fuchsia\", \n",
    "        \"gold\", \n",
    "        \"red\", \n",
    "        \"yellow\",        \n",
    "        \n",
    "    ]\n",
    "    \n",
    "    ########### Su código\n",
    "    from bokeh.plotting import figure, show\n",
    "    from bokeh.io import output_notebook\n",
    "    #from bokeh.palettes import Paired7\n",
    "\n",
    "    p = figure(x_axis_label='Year', y_axis_label='Population') #plot_width=800, plot_height=250, x_axis_type=\"datetime\"\n",
    "\n",
    "    Region = df.index.to_list()\n",
    "    L = len(Region)\n",
    "\n",
    "    for region, color in zip(Region, colors):\n",
    "        p.line(df.columns, df.loc[region, \"1500\":], line_width=2, color=color, legend_label=region)\n",
    "\n",
    "    p.legend.location = \"top_left\"\n",
    "    p.title.text = 'World historical and predicted populations'\n",
    "    \n",
    "    output_notebook()\n",
    "    \n",
    "    show(p)"
   ]
  },
  {
   "cell_type": "code",
   "execution_count": 130,
   "metadata": {},
   "outputs": [],
   "source": [
    "def get_seaborn(df):\n",
    "    \"\"\"\n",
    "    Obtener un simple gráfico con la librería seaborn comparando la evolución de la población por continentes\n",
    "    \"\"\"\n",
    "    ########### Su código\n",
    "    df = df.reset_index().melt('Region', var_name = 'Year', value_name = 'Population')\n",
    "    \n",
    "    sns.set(rc={'figure.figsize':(10,10)})\n",
    "    \n",
    "    sns.lineplot(x='Year', y='Population', hue='Region', data=df)"
   ]
  },
  {
   "cell_type": "code",
   "execution_count": 8,
   "metadata": {},
   "outputs": [],
   "source": [
    "def get_excel(df, nombre):\n",
    "    \"\"\"\n",
    "    Volcar el dataframe pasado a una hoja de cálculo con los siguientes coloreando de:\n",
    "        verde: Población por debajo de 100 millones de personas.\n",
    "        rojo: Poblaciones por encima de 100 millones de personas.\n",
    "        \n",
    "    Estos colores son solo aplicables a continentes, no al total del mundo.\n",
    "    \"\"\"\n",
    "    ###########Your code\n",
    "\n",
    "    def highlight_100M(df):\n",
    "        if df < 100:\n",
    "            color = 'green'\n",
    "        else:\n",
    "            color = 'red'\n",
    "        \n",
    "        return 'color: %s' % color\n",
    "\n",
    "    return df.style.applymap(highlight_100M, subset=pd.IndexSlice[df.index[1:], :]).to_excel(nombre)"
   ]
  },
  {
   "cell_type": "code",
   "execution_count": null,
   "metadata": {},
   "outputs": [],
   "source": []
  }
 ],
 "metadata": {
  "kernelspec": {
   "display_name": "Python 3.7.6 64-bit ('base': conda)",
   "language": "python",
   "name": "python37664bitbaseconda0d06624c63c447639283d7e5e1c15c32"
  },
  "language_info": {
   "codemirror_mode": {
    "name": "ipython",
    "version": 3
   },
   "file_extension": ".py",
   "mimetype": "text/x-python",
   "name": "python",
   "nbconvert_exporter": "python",
   "pygments_lexer": "ipython3",
   "version": "3.7.6"
  }
 },
 "nbformat": 4,
 "nbformat_minor": 2
}
