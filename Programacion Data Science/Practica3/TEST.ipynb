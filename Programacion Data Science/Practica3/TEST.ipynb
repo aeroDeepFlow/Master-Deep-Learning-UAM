{
 "cells": [
  {
   "cell_type": "code",
   "execution_count": null,
   "metadata": {},
   "outputs": [],
   "source": [
    "archivo_funciones = \"PracticaSesion4.ipynb\"\n",
    "%run $archivo_funciones\n"
   ]
  },
  {
   "cell_type": "code",
   "execution_count": null,
   "metadata": {
    "code_folding": []
   },
   "outputs": [],
   "source": [
    "cols = (\"Dates\",\n",
    "        \"bitcoin_cash_currencies\",\n",
    "        \"bitcoin_currencies\",\n",
    "        \"bitcoin_gold\",\n",
    "        \"cardano\",\n",
    "        \"dash\",\n",
    "        \"ethereum_classic\",\n",
    "        \"ethereum_currencies\",\n",
    "        \"monero\",\n",
    "        \"neo\",\n",
    "        \"ripple_currencies\",\n",
    "       )\n",
    "\n",
    "cierres = pd.read_excel(\"cierres.xlsx\", index_col=\"Dates\", usecols=cols, parse_dates=True)"
   ]
  },
  {
   "cell_type": "code",
   "execution_count": null,
   "metadata": {
    "code_folding": []
   },
   "outputs": [],
   "source": [
    "# %run $archivo_funciones\n",
    "def test_medias_mayor_que():\n",
    "    \n",
    "    assert medias_mayor_que(cierres, 100) == ['bitcoin_cash_currencies', 'bitcoin_currencies', \n",
    "                                              'dash', 'ethereum_currencies']\n",
    "    \n",
    "    assert medias_mayor_que(cierres, 150) == ['bitcoin_cash_currencies', 'bitcoin_currencies', \n",
    "                                              'ethereum_currencies']\n",
    "    \n",
    "    assert medias_mayor_que(cierres, 500) == ['bitcoin_cash_currencies', 'bitcoin_currencies']\n",
    "    \n",
    "    print(\"¡test_medias_mayor_que pasado!\")\n",
    "    \n",
    "    \n",
    "# test_medias_mayor_que()"
   ]
  },
  {
   "cell_type": "code",
   "execution_count": null,
   "metadata": {
    "code_folding": []
   },
   "outputs": [],
   "source": [
    "# %run $archivo_funciones\n",
    "def test_ordenar_columnas_valor_maximo():\n",
    "    \n",
    "    expected_order = (\n",
    "            \"bitcoin_currencies\",         # 19497.40\n",
    "            \"bitcoin_cash_currencies\",     # 3923.07\n",
    "            \"dash\",                        # 1550.85\n",
    "            \"ethereum_currencies\",         # 1396.42\n",
    "            \"bitcoin_gold\",                 # 500.13\n",
    "            \"monero\",                       # 469.20\n",
    "            \"neo\",                          # 187.40\n",
    "            \"ethereum_classic\",              # 44.05\n",
    "            \"ripple_currencies\",              # 3.38\n",
    "            \"cardano\",                        # 1.11\n",
    "    )\n",
    "    \n",
    "    df = ordenar_columnas_valor_maximo(cierres) \n",
    "    \n",
    "    for comparation in zip(expected_order, df.columns):\n",
    "        assert comparation[0] == comparation[1]\n",
    "    \n",
    "    print(\"¡test_ordenar_columnas_valor_maximo pasado!\")\n",
    "    \n",
    "    \n",
    "# test_ordenar_columnas_valor_maximo()"
   ]
  },
  {
   "cell_type": "code",
   "execution_count": null,
   "metadata": {
    "code_folding": []
   },
   "outputs": [],
   "source": [
    "# %run $archivo_funciones\n",
    "def test_ultima_fila():\n",
    "    assert np.isclose(ultima_fila(cierres, np.nanmean, \"Media\").loc[\"Media\", \"bitcoin_cash_currencies\"],873.445218)\n",
    "    assert np.isclose(ultima_fila(cierres, np.sum, \"Suma\").loc[\"Suma\", \"neo\"],24154.06401)\n",
    "   \n",
    "    print(\"¡test_ultima_fila pasado!\")\n",
    "        \n",
    "# test_ultima_fila()"
   ]
  },
  {
   "cell_type": "code",
   "execution_count": null,
   "metadata": {
    "code_folding": []
   },
   "outputs": [],
   "source": [
    "# %run $archivo_funciones\n",
    "def test_incrementos():\n",
    "    inc=incrementos(cierres[[\"bitcoin_cash_currencies\",\"bitcoin_currencies\",\"bitcoin_gold\"]]) \n",
    "    expected = {\n",
    "        (\"2018-12-31\", \"bitcoin_cash_currencies\"): -12.57,\n",
    "        (\"2018-12-26\", \"bitcoin_currencies\"): 41.81,\n",
    "        (\"2018-12-21\", \"bitcoin_gold\"): -0.54,\n",
    "    }\n",
    "    \n",
    "    for key, value in expected.items():\n",
    "        assert np.isclose(inc.loc[key[0], key[1]], value)\n",
    "    print(\"¡test_incrementos pasado!\")\n",
    "        \n",
    "# test_incrementos()"
   ]
  },
  {
   "cell_type": "code",
   "execution_count": null,
   "metadata": {
    "code_folding": []
   },
   "outputs": [],
   "source": [
    "# %run $archivo_funciones\n",
    "def test_no_nulos():\n",
    "    expected = {\n",
    "        \"bitcoin_cash_currencies\": 527,\n",
    "        \"bitcoin_gold\": 435,\n",
    "        \"dash\": 1782,\n",
    "    }\n",
    "    \n",
    "    cont = no_nulos(cierres)\n",
    "    for key, value in expected.items():\n",
    "        assert cont.loc[\"No Nulos\", key] == value\n",
    "    \n",
    "    print(\"¡test_no_nulos pasado!\")\n",
    "    \n",
    "    \n",
    "# test_no_nulos()"
   ]
  },
  {
   "cell_type": "code",
   "execution_count": null,
   "metadata": {},
   "outputs": [],
   "source": [
    "%run $archivo_funciones\n",
    "\n",
    "test_medias_mayor_que()\n",
    "test_ordenar_columnas_valor_maximo()\n",
    "test_ultima_fila()\n",
    "test_incrementos()\n",
    "test_no_nulos()"
   ]
  }
 ],
 "metadata": {
  "kernelspec": {
   "display_name": "Python 3",
   "language": "python",
   "name": "python3"
  },
  "language_info": {
   "codemirror_mode": {
    "name": "ipython",
    "version": 3
   },
   "file_extension": ".py",
   "mimetype": "text/x-python",
   "name": "python",
   "nbconvert_exporter": "python",
   "pygments_lexer": "ipython3",
   "version": "3.7.4"
  }
 },
 "nbformat": 4,
 "nbformat_minor": 2
}
