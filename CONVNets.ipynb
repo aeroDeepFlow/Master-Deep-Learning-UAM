{
  "nbformat": 4,
  "nbformat_minor": 0,
  "metadata": {
    "colab": {
      "name": "CONVNets.ipynb",
      "provenance": [],
      "collapsed_sections": [],
      "toc_visible": true
    },
    "kernelspec": {
      "name": "python3",
      "display_name": "Python 3"
    },
    "accelerator": "GPU"
  },
  "cells": [
    {
      "cell_type": "markdown",
      "metadata": {
        "id": "n3yhPP88vwA4",
        "colab_type": "text"
      },
      "source": [
        "# **Comparando diferentes arquitecturas de Redes Neuronales para MNIST**"
      ]
    },
    {
      "cell_type": "markdown",
      "metadata": {
        "id": "B65h16w7Kh_a",
        "colab_type": "text"
      },
      "source": [
        "El problema que se trata de resolver aquí es el de clasificación de imágenes en escala de grises de dígitos escritos a mano (28 píxeles por 28 píxeles), en sus 10 categorías (0 a 9). El conjunto de datos que se va a usar es el conjunto de datos MNIST, un conjunto de datos clásico en la comunidad de aprendizaje automático, que ha existido durante casi tanto tiempo como el campo en sí y se ha estudiado muy intensamente. Es un conjunto de 60,000 imágenes de entrenamiento, más 10,000 imágenes de prueba, ensambladas por el Instituto Nacional de Estándares y Tecnología (NIST en MNIST) en la década de 1980.\n",
        "\n",
        "Dos técnicas diferentes dentro del campo del Deep Learning van a ser usadas:\n",
        "\n",
        "\n",
        "\n",
        "1.   Red Neuronal Profunda\n",
        "\n",
        "2.   Red Neuronal Convolucional\n",
        "\n"
      ]
    },
    {
      "cell_type": "markdown",
      "metadata": {
        "id": "fCXMEMD3JC2Y",
        "colab_type": "text"
      },
      "source": [
        "## Descripcción del dataset"
      ]
    },
    {
      "cell_type": "markdown",
      "metadata": {
        "id": "SE_W4CYvI_Vf",
        "colab_type": "text"
      },
      "source": [
        "La base de datos MNIST (base de datos modificada del Instituto Nacional de Estándares y Tecnología) es una gran base de datos de dígitos escritos a mano que se usa comúnmente para entrenar sistemas de procesamiento de imágenes. La base de datos también se usa ampliamente para el entrenamiento y validación en el campo del aprendizaje automático.\n",
        "\n",
        "La base de datos MNIST contiene 60,000 imágenes de entrenamiento y 10,000 imágenes de test. Ha habido una serie de artículos científicos sobre intentos de lograr la tasa de error más baja. Un artículo, utilizando un sistema jerárquico de redes neuronales convolucionales, logra obtener una tasa de error en la base de datos MNIST de 0.23%. Los creadores originales de la base de datos mantienen una lista de algunos de los métodos probados en ella. En su artículo original, utilizan una máquina de vectores de soporte para obtener una tasa de error del 0,8%. Un conjunto de datos extendido similar a MNIST llamado EMNIST se ha publicado en 2017, que contiene 240,000 imágenes de entrenamiento y 40,000 imágenes de prueba de dígitos escritos a mano."
      ]
    },
    {
      "cell_type": "markdown",
      "metadata": {
        "id": "9wuqzX7tJ5kV",
        "colab_type": "text"
      },
      "source": [
        "## Carga librerías"
      ]
    },
    {
      "cell_type": "markdown",
      "metadata": {
        "id": "JNWn1vQZwNDL",
        "colab_type": "text"
      },
      "source": [
        "En primer lugar se cargan las librerías que se consideran necesarias para la realización del ejercicio."
      ]
    },
    {
      "cell_type": "code",
      "metadata": {
        "id": "chQwWcxtx56K",
        "colab_type": "code",
        "colab": {
          "base_uri": "https://localhost:8080/",
          "height": 80
        },
        "outputId": "2adc1a89-29b0-4bb4-dde2-2111e61c6be9"
      },
      "source": [
        "import numpy as np\n",
        "import pandas as pd\n",
        "import matplotlib.pyplot as plt\n",
        "\n",
        "import keras\n",
        "from keras.datasets import mnist\n",
        "from keras.models import Sequential\n",
        "from keras.layers import Dense, Dropout, Flatten\n",
        "from keras.layers import Conv2D, MaxPooling2D\n",
        "from keras import backend as K\n",
        "from keras.utils import plot_model\n",
        "\n",
        "from collections import Counter\n",
        "from sklearn.metrics import confusion_matrix\n",
        "import itertools"
      ],
      "execution_count": 1,
      "outputs": [
        {
          "output_type": "stream",
          "text": [
            "Using TensorFlow backend.\n"
          ],
          "name": "stderr"
        },
        {
          "output_type": "display_data",
          "data": {
            "text/html": [
              "<p style=\"color: red;\">\n",
              "The default version of TensorFlow in Colab will soon switch to TensorFlow 2.x.<br>\n",
              "We recommend you <a href=\"https://www.tensorflow.org/guide/migrate\" target=\"_blank\">upgrade</a> now \n",
              "or ensure your notebook will continue to use TensorFlow 1.x via the <code>%tensorflow_version 1.x</code> magic:\n",
              "<a href=\"https://colab.research.google.com/notebooks/tensorflow_version.ipynb\" target=\"_blank\">more info</a>.</p>\n"
            ],
            "text/plain": [
              "<IPython.core.display.HTML object>"
            ]
          },
          "metadata": {
            "tags": []
          }
        }
      ]
    },
    {
      "cell_type": "markdown",
      "metadata": {
        "id": "tyMTW3ogvlai",
        "colab_type": "text"
      },
      "source": [
        "La versión de **keras** que se usará en este notebook es la siguiente "
      ]
    },
    {
      "cell_type": "code",
      "metadata": {
        "id": "Bo2qc0qowWKX",
        "colab_type": "code",
        "outputId": "09640ec2-c420-430b-b636-6e45867a37bd",
        "colab": {
          "base_uri": "https://localhost:8080/",
          "height": 34
        }
      },
      "source": [
        "print(\"Versión Keras disponible en este notebook: {}\".format(keras.__version__))"
      ],
      "execution_count": 2,
      "outputs": [
        {
          "output_type": "stream",
          "text": [
            "Versión Keras disponible en este notebook: 2.2.5\n"
          ],
          "name": "stdout"
        }
      ]
    },
    {
      "cell_type": "markdown",
      "metadata": {
        "id": "yPf1RA7dNztt",
        "colab_type": "text"
      },
      "source": [
        "Para la carga de datos se hace uso de la siguiente función. En ella se utiliza el módulo propio de Keras, denominado ***dataset***, en el que se encuentran diferentes conjuntos de datos de testing. En este caso se usará el correpondiente al **MNIST**."
      ]
    },
    {
      "cell_type": "code",
      "metadata": {
        "id": "KG91BmPPN3Zx",
        "colab_type": "code",
        "colab": {}
      },
      "source": [
        "(x_train_, y_train_), (x_test_, y_test_) = mnist.load_data()"
      ],
      "execution_count": 0,
      "outputs": []
    },
    {
      "cell_type": "markdown",
      "metadata": {
        "id": "gJuFrHkp-AKF",
        "colab_type": "text"
      },
      "source": [
        "Las dimensiones de los tensores de entrada **x** resultantes son los siguientes"
      ]
    },
    {
      "cell_type": "code",
      "metadata": {
        "id": "68Z5nFyF8LDb",
        "colab_type": "code",
        "outputId": "80f2f18b-4e0e-45db-dda2-85020c6fd752",
        "colab": {
          "base_uri": "https://localhost:8080/",
          "height": 85
        }
      },
      "source": [
        "print('x_train shape:', x_train_.shape)\n",
        "print('x_test shape:', x_test_.shape)\n",
        "print(x_train_.shape[0], 'train samples')\n",
        "print(x_test_.shape[0], 'test samples')"
      ],
      "execution_count": 4,
      "outputs": [
        {
          "output_type": "stream",
          "text": [
            "x_train shape: (60000, 28, 28)\n",
            "x_test shape: (10000, 28, 28)\n",
            "60000 train samples\n",
            "10000 test samples\n"
          ],
          "name": "stdout"
        }
      ]
    },
    {
      "cell_type": "markdown",
      "metadata": {
        "id": "AzSuxuG_-wbs",
        "colab_type": "text"
      },
      "source": [
        "Por otro lado, para el target **y** se obtiene la misma información"
      ]
    },
    {
      "cell_type": "code",
      "metadata": {
        "id": "Pw8rPMc9-iQN",
        "colab_type": "code",
        "outputId": "030b3345-8c15-4046-9fbd-0f71601f9c50",
        "colab": {
          "base_uri": "https://localhost:8080/",
          "height": 85
        }
      },
      "source": [
        "print('y_train shape:', y_train_.shape)\n",
        "print('y_test shape:', y_test_.shape)\n",
        "print(y_train_.shape[0], 'train target')\n",
        "print(y_test_.shape[0], 'test target')"
      ],
      "execution_count": 5,
      "outputs": [
        {
          "output_type": "stream",
          "text": [
            "y_train shape: (60000,)\n",
            "y_test shape: (10000,)\n",
            "60000 train target\n",
            "10000 test target\n"
          ],
          "name": "stdout"
        }
      ]
    },
    {
      "cell_type": "markdown",
      "metadata": {
        "id": "LMsEPKy7AqHO",
        "colab_type": "text"
      },
      "source": [
        "## Aplicación Red Profunda. Vanilla Network"
      ]
    },
    {
      "cell_type": "markdown",
      "metadata": {
        "id": "mBENich4LglO",
        "colab_type": "text"
      },
      "source": [
        "En este primer apartado se va a realizar un diseño de red neural profunda clásica.\n",
        "\n"
      ]
    },
    {
      "cell_type": "markdown",
      "metadata": {
        "id": "WKZUGslOR3wm",
        "colab_type": "text"
      },
      "source": [
        "### Carga y tranformación del dataset"
      ]
    },
    {
      "cell_type": "markdown",
      "metadata": {
        "id": "jDmJp9kpioAT",
        "colab_type": "text"
      },
      "source": [
        "Para el uso de una red, unicialmente se han de procesar los datos de entrada y salida. En el apartado anterior se han mostrado las dimensiones de los tensores de entrada y salida y, tal cual como están formateados no son adecuados para el tipo de red que se quiere diseñar.\n",
        "\n",
        "Para el tratamiento de este problema se ha diseñado una función que realiza las transformaciones pertinentes.\n",
        "\n",
        "Inicialmente se realiza un redimensionamiento de los tensores de entrada de forma que estos tengan dimension 1, esto es, se tranforman en vectores. Se sabe que las dimensiones de las imágenes indivduales son (28, 28, 1) correspondiendo la primera dimension a la altura en píxeles, la segunda al ancho y la tercera a los canales. Para redimensionarlas se necesita disponer de vectores de dimensión 28x28 que equivale a 748 elementos por vector.\n",
        "\n",
        "Seguidamente se normalizan los valores de los píxeles dentro del intervalo de 0-1. Se sabe que las imágenes están formateadas en escala de grises y codificadas en 8 bits, por lo que para normalizarlas se ha de dividir por 255 el valor de cada pixel.\n",
        "\n",
        "Por último, los tensores de salida se redimensionan transformándolos a vectores de dimensión 10 (el número de clases a detectar), de tal forma que todos los valores son nulos excepto aquél que se encuentra en la posición determinada por la clase correspondiente, tomando el valor 1."
      ]
    },
    {
      "cell_type": "code",
      "metadata": {
        "id": "J6FPpk0FQDgc",
        "colab_type": "code",
        "colab": {}
      },
      "source": [
        "def data_ANNNet(x_train, y_train, x_test, y_test):\n",
        "\n",
        "  prod_dims = np.prod(x_train.shape[1:])\n",
        "  num_classes = 10\n",
        "\n",
        "  x_train = x_train.reshape((x_train.shape[0], prod_dims))\n",
        "  x_train = x_train.astype('float32') / 255\n",
        "\n",
        "  x_test = x_test.reshape((x_test.shape[0], prod_dims))\n",
        "  x_test = x_test.astype('float32') / 255\n",
        "\n",
        "  x_train = x_train.astype('float32')\n",
        "  x_test = x_test.astype('float32')\n",
        "  x_train /= 255\n",
        "  x_test /= 255\n",
        "  \n",
        "  # convierte clases del target en vectores binarios de dim=10\n",
        "  y_train = keras.utils.to_categorical(y_train, num_classes)\n",
        "  y_test = keras.utils.to_categorical(y_test, num_classes)\n",
        "\n",
        "  return (x_train, y_train), (x_test, y_test)"
      ],
      "execution_count": 0,
      "outputs": []
    },
    {
      "cell_type": "markdown",
      "metadata": {
        "id": "YmXX8PGElswo",
        "colab_type": "text"
      },
      "source": [
        "Definida la función se transforman los datos originales."
      ]
    },
    {
      "cell_type": "code",
      "metadata": {
        "id": "d4o7pwTkSI9N",
        "colab_type": "code",
        "colab": {}
      },
      "source": [
        "(x_train, y_train), (x_test, y_test) = data_ANNNet(x_train_, y_train_, x_test_, \n",
        "                                                   y_test_)"
      ],
      "execution_count": 0,
      "outputs": []
    },
    {
      "cell_type": "markdown",
      "metadata": {
        "id": "RnXT0cyBlzD2",
        "colab_type": "text"
      },
      "source": [
        "Se comprueba que las dimensiones de las imagenes individuales son las adecuadas."
      ]
    },
    {
      "cell_type": "code",
      "metadata": {
        "id": "amXQGIO-PrPO",
        "colab_type": "code",
        "colab": {
          "base_uri": "https://localhost:8080/",
          "height": 34
        },
        "outputId": "b115ed59-29cb-4788-fc3d-cd361d8e42ba"
      },
      "source": [
        "# input image dimensions\n",
        "input_shape = x_train.shape[1:]\n",
        "\n",
        "print(\"Las dimensiones del tensor de entrada es: {}\".format(input_shape))"
      ],
      "execution_count": 8,
      "outputs": [
        {
          "output_type": "stream",
          "text": [
            "Las dimensiones del tensor de entrada es: (784,)\n"
          ],
          "name": "stdout"
        }
      ]
    },
    {
      "cell_type": "markdown",
      "metadata": {
        "id": "vwibYPbyTo9w",
        "colab_type": "text"
      },
      "source": [
        "### Generación del modelo"
      ]
    },
    {
      "cell_type": "markdown",
      "metadata": {
        "id": "-gbYlXcAiTNj",
        "colab_type": "text"
      },
      "source": [
        "El componente básico de las redes neuronales es la \"capa\", un módulo de procesamiento de datos que puede concebirse como un \"filtro\" para los datos. Las capas extraen representaciones de los datos introducidos en ellas que resultan ser representaciones más significativas para el problema en cuestión. \n",
        "\n",
        "La mayor parte del aprendizaje profundo realmente consiste en encadenar capas simples que implementarán una forma de \"destilación de datos\" progresiva. Un modelo de aprendizaje profundo es como un tamiz para el procesamiento de datos, hecho de una sucesión de filtros de datos cada vez más refinados: las \"capas\".\n",
        "\n",
        "La red a diseñar consistirá en una secuencia de tres capas densas densas, también llamadas \"completamente conectadas\". La última capa es una capa \"softmax\" de 10 salidas, lo que significa que devolverá un vector de 10 componentes con la probabilidad de pertenecer a una determinada clase.\n",
        "\n",
        "Para preparar la red, previo al entrenamiento, se deben elegir tres cosas más, como parte del paso llamado de \"compilación\":\n",
        "\n",
        "\n",
        "1. Una función de pérdida: así es como la red podrá medir la performance de la red.\n",
        "\n",
        "2. Un optimizador: este es el mecanismo a través del cual la red se actualizará en función de los datos que ve y su función de pérdida.\n",
        "\n",
        "3. Métricas para monitorear durante el entrenamiento y las pruebas. Las métricas a evaluar serán: accuracy, recall, precision y F1. Para las tres métricas finales se definen las funciones que a continuación se muestra."
      ]
    },
    {
      "cell_type": "code",
      "metadata": {
        "id": "peemqgQaX76n",
        "colab_type": "code",
        "colab": {}
      },
      "source": [
        "def recall(y_true, y_pred):\n",
        "    true_positives = K.sum(K.round(K.clip(y_true * y_pred, 0, 1)))\n",
        "    possible_positives = K.sum(K.round(K.clip(y_true, 0, 1)))\n",
        "    recall = true_positives / (possible_positives + K.epsilon())\n",
        "    return recall\n",
        "\n",
        "def precision(y_true, y_pred):\n",
        "    true_positives = K.sum(K.round(K.clip(y_true * y_pred, 0, 1)))\n",
        "    predicted_positives = K.sum(K.round(K.clip(y_pred, 0, 1)))\n",
        "    precision = true_positives / (predicted_positives + K.epsilon())\n",
        "    return precision\n",
        "\n",
        "def f1(y_true, y_pred):\n",
        "    precision_ = precision(y_true, y_pred)\n",
        "    recall_ = recall(y_true, y_pred)\n",
        "    return 2*((precision_*recall_)/(precision_+recall_+K.epsilon()))"
      ],
      "execution_count": 0,
      "outputs": []
    },
    {
      "cell_type": "markdown",
      "metadata": {
        "id": "vj7RJzQFmt21",
        "colab_type": "text"
      },
      "source": [
        "Para la generación del modelo se recurre a la siguiente función. Los parámetros de entrada son:\n",
        "\n",
        "1. El número de neuronas de cada capa densa. Se recuerda que van a ser tres capas densas y por defecto tendrán 512, 256 y 128 neuronas respectivamente.\n",
        "\n",
        "2. La función de activación. Por defecto va a ser la función RELU\n",
        "\n",
        "3. El algoritmo de optimización. Por defecto será \"adadelta\".\n",
        "\n",
        "La función tiene como salido el modelo propuesto.\n"
      ]
    },
    {
      "cell_type": "code",
      "metadata": {
        "id": "snu2y51qG_W3",
        "colab_type": "code",
        "colab": {}
      },
      "source": [
        "def ANNNet(units=(512, 256, 128), activation='relu', optimizer=\"adadelta\"):\n",
        "\n",
        "  model = Sequential()\n",
        "  \n",
        "  model.add(Dense(units=units[0], activation=activation, \n",
        "                  input_shape=input_shape))\n",
        "  model.add(Dense(units=units[1], activation=activation))\n",
        "  model.add(Dense(units=units[2], activation=activation))\n",
        "  \n",
        "  model.add(Dense(10, activation='softmax'))\n",
        "\n",
        "  # compilación del modelo\n",
        "  model.compile(loss=\"categorical_crossentropy\",\n",
        "                optimizer=optimizer,\n",
        "                metrics=['accuracy', recall, precision, f1])\n",
        "\n",
        "  return model"
      ],
      "execution_count": 0,
      "outputs": []
    },
    {
      "cell_type": "markdown",
      "metadata": {
        "id": "oDPhtoUNn8ER",
        "colab_type": "text"
      },
      "source": [
        "Definida la función, se genera el modelo de red profunda."
      ]
    },
    {
      "cell_type": "code",
      "metadata": {
        "id": "qHky5MJ6TNxP",
        "colab_type": "code",
        "colab": {
          "base_uri": "https://localhost:8080/",
          "height": 207
        },
        "outputId": "f865decd-dc81-486b-a776-7e95fec4999c"
      },
      "source": [
        "modelANN1 = ANNNet()  "
      ],
      "execution_count": 11,
      "outputs": [
        {
          "output_type": "stream",
          "text": [
            "WARNING:tensorflow:From /usr/local/lib/python3.6/dist-packages/keras/backend/tensorflow_backend.py:66: The name tf.get_default_graph is deprecated. Please use tf.compat.v1.get_default_graph instead.\n",
            "\n",
            "WARNING:tensorflow:From /usr/local/lib/python3.6/dist-packages/keras/backend/tensorflow_backend.py:541: The name tf.placeholder is deprecated. Please use tf.compat.v1.placeholder instead.\n",
            "\n",
            "WARNING:tensorflow:From /usr/local/lib/python3.6/dist-packages/keras/backend/tensorflow_backend.py:4432: The name tf.random_uniform is deprecated. Please use tf.random.uniform instead.\n",
            "\n",
            "WARNING:tensorflow:From /usr/local/lib/python3.6/dist-packages/keras/optimizers.py:793: The name tf.train.Optimizer is deprecated. Please use tf.compat.v1.train.Optimizer instead.\n",
            "\n",
            "WARNING:tensorflow:From /usr/local/lib/python3.6/dist-packages/keras/backend/tensorflow_backend.py:3576: The name tf.log is deprecated. Please use tf.math.log instead.\n",
            "\n"
          ],
          "name": "stdout"
        }
      ]
    },
    {
      "cell_type": "markdown",
      "metadata": {
        "id": "Usjbpn7lTvWL",
        "colab_type": "text"
      },
      "source": [
        "### Sumario del modelo"
      ]
    },
    {
      "cell_type": "markdown",
      "metadata": {
        "id": "kl_b8qGSoKFu",
        "colab_type": "text"
      },
      "source": [
        "Ejecutando el código siguiente se obtienen las diferentes capas de la red con las dimensiones de sus salidas así como el número de parámetros por las cuales quedan definidas y que deben ser entrenados."
      ]
    },
    {
      "cell_type": "code",
      "metadata": {
        "id": "vuuLCMwWxeZP",
        "colab_type": "code",
        "colab": {
          "base_uri": "https://localhost:8080/",
          "height": 289
        },
        "outputId": "e194c8cc-7d98-4375-ca1e-a4aa059372b5"
      },
      "source": [
        "modelANN1.summary()"
      ],
      "execution_count": 12,
      "outputs": [
        {
          "output_type": "stream",
          "text": [
            "Model: \"sequential_1\"\n",
            "_________________________________________________________________\n",
            "Layer (type)                 Output Shape              Param #   \n",
            "=================================================================\n",
            "dense_1 (Dense)              (None, 512)               401920    \n",
            "_________________________________________________________________\n",
            "dense_2 (Dense)              (None, 256)               131328    \n",
            "_________________________________________________________________\n",
            "dense_3 (Dense)              (None, 128)               32896     \n",
            "_________________________________________________________________\n",
            "dense_4 (Dense)              (None, 10)                1290      \n",
            "=================================================================\n",
            "Total params: 567,434\n",
            "Trainable params: 567,434\n",
            "Non-trainable params: 0\n",
            "_________________________________________________________________\n"
          ],
          "name": "stdout"
        }
      ]
    },
    {
      "cell_type": "markdown",
      "metadata": {
        "id": "x4ZQRDcNoPqF",
        "colab_type": "text"
      },
      "source": [
        "Esquematicamente la red queda representada tal como se muestra a continuación."
      ]
    },
    {
      "cell_type": "code",
      "metadata": {
        "id": "SJU2iCmmUE2A",
        "colab_type": "code",
        "colab": {
          "base_uri": "https://localhost:8080/",
          "height": 466
        },
        "outputId": "dbe80845-3a61-434d-fd53-8eb51d0c79cd"
      },
      "source": [
        "plot_model(modelANN1)"
      ],
      "execution_count": 13,
      "outputs": [
        {
          "output_type": "execute_result",
          "data": {
            "image/png": "[encoded data removed]",
            "text/plain": [
              "<IPython.core.display.Image object>"
            ]
          },
          "metadata": {
            "tags": []
          },
          "execution_count": 13
        }
      ]
    },
    {
      "cell_type": "markdown",
      "metadata": {
        "id": "KnwIvOenUP5p",
        "colab_type": "text"
      },
      "source": [
        "### Entrenamiento del modelo"
      ]
    },
    {
      "cell_type": "markdown",
      "metadata": {
        "id": "czUgeHihUZrZ",
        "colab_type": "text"
      },
      "source": [
        "Una vez definido el modelo, la siguiente fase correspondería al entrenamiento del mismo.\n",
        "\n",
        "Para ello se definen los parámetros de:\n",
        "\n",
        "1. BATCH_SIZE: corresponde al número de ejemplares que el algoritmo \"verá\" de golpe para cada paso de entrenamiento.\n",
        "\n",
        "2. EPOCHS: el número de veces que el algoritmo verá el data set completo.\n",
        "\n",
        "En la función de entrenamiento se facilitan, asímismo, los datos test para la estimación de los valores de validación. Esto es necesario para comprobar si el modelo que se está generando es capaz de generalizar de forma adecuada y no sólamente sobre-aprender el data set de entrenamiento."
      ]
    },
    {
      "cell_type": "code",
      "metadata": {
        "id": "PTLRZdM9Ud_3",
        "colab_type": "code",
        "colab": {}
      },
      "source": [
        "BATCH_SIZE = 128\n",
        "EPOCHS = 20"
      ],
      "execution_count": 0,
      "outputs": []
    },
    {
      "cell_type": "code",
      "metadata": {
        "id": "rQR0eGAMUhNz",
        "colab_type": "code",
        "colab": {
          "base_uri": "https://localhost:8080/",
          "height": 360
        },
        "outputId": "37afe4e8-70a0-43d9-9562-293ca07376af"
      },
      "source": [
        "historyANN1 = modelANN1.fit(x_train, y_train,\n",
        "                            batch_size=BATCH_SIZE,\n",
        "                            epochs=EPOCHS,\n",
        "                            verbose=0,\n",
        "                            validation_data=(x_test, y_test));"
      ],
      "execution_count": 15,
      "outputs": [
        {
          "output_type": "stream",
          "text": [
            "WARNING:tensorflow:From /tensorflow-1.15.0/python3.6/tensorflow_core/python/ops/math_grad.py:1424: where (from tensorflow.python.ops.array_ops) is deprecated and will be removed in a future version.\n",
            "Instructions for updating:\n",
            "Use tf.where in 2.0, which has the same broadcast rule as np.where\n",
            "WARNING:tensorflow:From /usr/local/lib/python3.6/dist-packages/keras/backend/tensorflow_backend.py:1033: The name tf.assign_add is deprecated. Please use tf.compat.v1.assign_add instead.\n",
            "\n",
            "WARNING:tensorflow:From /usr/local/lib/python3.6/dist-packages/keras/backend/tensorflow_backend.py:1020: The name tf.assign is deprecated. Please use tf.compat.v1.assign instead.\n",
            "\n",
            "WARNING:tensorflow:From /usr/local/lib/python3.6/dist-packages/keras/backend/tensorflow_backend.py:3005: The name tf.Session is deprecated. Please use tf.compat.v1.Session instead.\n",
            "\n",
            "WARNING:tensorflow:From /usr/local/lib/python3.6/dist-packages/keras/backend/tensorflow_backend.py:190: The name tf.get_default_session is deprecated. Please use tf.compat.v1.get_default_session instead.\n",
            "\n",
            "WARNING:tensorflow:From /usr/local/lib/python3.6/dist-packages/keras/backend/tensorflow_backend.py:197: The name tf.ConfigProto is deprecated. Please use tf.compat.v1.ConfigProto instead.\n",
            "\n",
            "WARNING:tensorflow:From /usr/local/lib/python3.6/dist-packages/keras/backend/tensorflow_backend.py:207: The name tf.global_variables is deprecated. Please use tf.compat.v1.global_variables instead.\n",
            "\n",
            "WARNING:tensorflow:From /usr/local/lib/python3.6/dist-packages/keras/backend/tensorflow_backend.py:216: The name tf.is_variable_initialized is deprecated. Please use tf.compat.v1.is_variable_initialized instead.\n",
            "\n",
            "WARNING:tensorflow:From /usr/local/lib/python3.6/dist-packages/keras/backend/tensorflow_backend.py:223: The name tf.variables_initializer is deprecated. Please use tf.compat.v1.variables_initializer instead.\n",
            "\n"
          ],
          "name": "stdout"
        }
      ]
    },
    {
      "cell_type": "markdown",
      "metadata": {
        "id": "2A6ujvy9pZ6f",
        "colab_type": "text"
      },
      "source": [
        "Realizado el entranemiento se evalúan los datos test."
      ]
    },
    {
      "cell_type": "code",
      "metadata": {
        "id": "XyvvSFAeU-P-",
        "colab_type": "code",
        "colab": {
          "base_uri": "https://localhost:8080/",
          "height": 102
        },
        "outputId": "cb8cbaab-165a-4a0a-e134-2b2fefe4339f"
      },
      "source": [
        "lossANN1, accANN1, recallANN1, precisionANN1, f1ANN1 = \\\n",
        "                                   modelANN1.evaluate(x_test, y_test, verbose=0)\n",
        "\n",
        "print('Test loss:', lossANN1)\n",
        "print('Test accuracy:', accANN1)\n",
        "print('Test recall:', recallANN1)\n",
        "print('Test precision:', precisionANN1)\n",
        "print('Test F1:', f1ANN1)"
      ],
      "execution_count": 17,
      "outputs": [
        {
          "output_type": "stream",
          "text": [
            "Test loss: 0.13036021508127452\n",
            "Test accuracy: 0.959\n",
            "Test recall: 0.9547\n",
            "Test precision: 0.9642517358779907\n",
            "Test F1: 0.9593636312484741\n"
          ],
          "name": "stdout"
        }
      ]
    },
    {
      "cell_type": "markdown",
      "metadata": {
        "id": "FTcziZzJU4-9",
        "colab_type": "text"
      },
      "source": [
        "### Curvas de aprendizaje y validación"
      ]
    },
    {
      "cell_type": "markdown",
      "metadata": {
        "id": "YPQ4quTPzKWD",
        "colab_type": "text"
      },
      "source": [
        "Una vez realizado el entrenamiento se muestran las curvas de aprendizaje y validación para la función de pérdida y la precisión."
      ]
    },
    {
      "cell_type": "code",
      "metadata": {
        "id": "2cMcoGrZVfoj",
        "colab_type": "code",
        "colab": {
          "base_uri": "https://localhost:8080/",
          "height": 669
        },
        "outputId": "f06a41a3-9ed1-477d-913d-3ca84e7d88ad"
      },
      "source": [
        "scoresANN1 = pd.DataFrame(historyANN1.history)\n",
        "scoresANN1"
      ],
      "execution_count": 18,
      "outputs": [
        {
          "output_type": "execute_result",
          "data": {
            "text/html": [
              "<div>\n",
              "<style scoped>\n",
              "    .dataframe tbody tr th:only-of-type {\n",
              "        vertical-align: middle;\n",
              "    }\n",
              "\n",
              "    .dataframe tbody tr th {\n",
              "        vertical-align: top;\n",
              "    }\n",
              "\n",
              "    .dataframe thead th {\n",
              "        text-align: right;\n",
              "    }\n",
              "</style>\n",
              "<table border=\"1\" class=\"dataframe\">\n",
              "  <thead>\n",
              "    <tr style=\"text-align: right;\">\n",
              "      <th></th>\n",
              "      <th>val_loss</th>\n",
              "      <th>val_acc</th>\n",
              "      <th>val_recall</th>\n",
              "      <th>val_precision</th>\n",
              "      <th>val_f1</th>\n",
              "      <th>loss</th>\n",
              "      <th>acc</th>\n",
              "      <th>recall</th>\n",
              "      <th>precision</th>\n",
              "      <th>f1</th>\n",
              "    </tr>\n",
              "  </thead>\n",
              "  <tbody>\n",
              "    <tr>\n",
              "      <th>0</th>\n",
              "      <td>2.142743</td>\n",
              "      <td>0.2357</td>\n",
              "      <td>0.0000</td>\n",
              "      <td>0.000000</td>\n",
              "      <td>0.000000</td>\n",
              "      <td>2.276177</td>\n",
              "      <td>0.149383</td>\n",
              "      <td>0.000000</td>\n",
              "      <td>0.000000</td>\n",
              "      <td>0.000000</td>\n",
              "    </tr>\n",
              "    <tr>\n",
              "      <th>1</th>\n",
              "      <td>1.832099</td>\n",
              "      <td>0.3710</td>\n",
              "      <td>0.2576</td>\n",
              "      <td>0.747681</td>\n",
              "      <td>0.381540</td>\n",
              "      <td>1.933184</td>\n",
              "      <td>0.301183</td>\n",
              "      <td>0.065383</td>\n",
              "      <td>0.566431</td>\n",
              "      <td>0.111944</td>\n",
              "    </tr>\n",
              "    <tr>\n",
              "      <th>2</th>\n",
              "      <td>0.843365</td>\n",
              "      <td>0.6999</td>\n",
              "      <td>0.6057</td>\n",
              "      <td>0.776902</td>\n",
              "      <td>0.679644</td>\n",
              "      <td>1.101888</td>\n",
              "      <td>0.600217</td>\n",
              "      <td>0.408150</td>\n",
              "      <td>0.791478</td>\n",
              "      <td>0.523513</td>\n",
              "    </tr>\n",
              "    <tr>\n",
              "      <th>3</th>\n",
              "      <td>0.533924</td>\n",
              "      <td>0.8225</td>\n",
              "      <td>0.7887</td>\n",
              "      <td>0.859694</td>\n",
              "      <td>0.822333</td>\n",
              "      <td>0.640846</td>\n",
              "      <td>0.785783</td>\n",
              "      <td>0.720650</td>\n",
              "      <td>0.845217</td>\n",
              "      <td>0.777223</td>\n",
              "    </tr>\n",
              "    <tr>\n",
              "      <th>4</th>\n",
              "      <td>0.406191</td>\n",
              "      <td>0.8740</td>\n",
              "      <td>0.8495</td>\n",
              "      <td>0.903775</td>\n",
              "      <td>0.875572</td>\n",
              "      <td>0.477951</td>\n",
              "      <td>0.847900</td>\n",
              "      <td>0.815817</td>\n",
              "      <td>0.882878</td>\n",
              "      <td>0.847856</td>\n",
              "    </tr>\n",
              "    <tr>\n",
              "      <th>5</th>\n",
              "      <td>0.363887</td>\n",
              "      <td>0.8892</td>\n",
              "      <td>0.8657</td>\n",
              "      <td>0.914847</td>\n",
              "      <td>0.889378</td>\n",
              "      <td>0.402188</td>\n",
              "      <td>0.875317</td>\n",
              "      <td>0.852200</td>\n",
              "      <td>0.901031</td>\n",
              "      <td>0.875808</td>\n",
              "    </tr>\n",
              "    <tr>\n",
              "      <th>6</th>\n",
              "      <td>0.315958</td>\n",
              "      <td>0.9005</td>\n",
              "      <td>0.8837</td>\n",
              "      <td>0.920815</td>\n",
              "      <td>0.901700</td>\n",
              "      <td>0.354626</td>\n",
              "      <td>0.891083</td>\n",
              "      <td>0.871850</td>\n",
              "      <td>0.913381</td>\n",
              "      <td>0.892042</td>\n",
              "    </tr>\n",
              "    <tr>\n",
              "      <th>7</th>\n",
              "      <td>0.318045</td>\n",
              "      <td>0.8965</td>\n",
              "      <td>0.8830</td>\n",
              "      <td>0.911361</td>\n",
              "      <td>0.896860</td>\n",
              "      <td>0.315346</td>\n",
              "      <td>0.903733</td>\n",
              "      <td>0.887083</td>\n",
              "      <td>0.923648</td>\n",
              "      <td>0.904923</td>\n",
              "    </tr>\n",
              "    <tr>\n",
              "      <th>8</th>\n",
              "      <td>0.254400</td>\n",
              "      <td>0.9205</td>\n",
              "      <td>0.9078</td>\n",
              "      <td>0.936601</td>\n",
              "      <td>0.921892</td>\n",
              "      <td>0.286066</td>\n",
              "      <td>0.912350</td>\n",
              "      <td>0.898150</td>\n",
              "      <td>0.929608</td>\n",
              "      <td>0.913544</td>\n",
              "    </tr>\n",
              "    <tr>\n",
              "      <th>9</th>\n",
              "      <td>0.248090</td>\n",
              "      <td>0.9235</td>\n",
              "      <td>0.9122</td>\n",
              "      <td>0.938024</td>\n",
              "      <td>0.924829</td>\n",
              "      <td>0.260460</td>\n",
              "      <td>0.920400</td>\n",
              "      <td>0.907733</td>\n",
              "      <td>0.935928</td>\n",
              "      <td>0.921556</td>\n",
              "    </tr>\n",
              "    <tr>\n",
              "      <th>10</th>\n",
              "      <td>0.212464</td>\n",
              "      <td>0.9354</td>\n",
              "      <td>0.9266</td>\n",
              "      <td>0.946841</td>\n",
              "      <td>0.936554</td>\n",
              "      <td>0.235745</td>\n",
              "      <td>0.928250</td>\n",
              "      <td>0.917350</td>\n",
              "      <td>0.941762</td>\n",
              "      <td>0.929345</td>\n",
              "    </tr>\n",
              "    <tr>\n",
              "      <th>11</th>\n",
              "      <td>0.197482</td>\n",
              "      <td>0.9388</td>\n",
              "      <td>0.9304</td>\n",
              "      <td>0.950177</td>\n",
              "      <td>0.940114</td>\n",
              "      <td>0.215633</td>\n",
              "      <td>0.933950</td>\n",
              "      <td>0.923833</td>\n",
              "      <td>0.946599</td>\n",
              "      <td>0.935024</td>\n",
              "    </tr>\n",
              "    <tr>\n",
              "      <th>12</th>\n",
              "      <td>0.181232</td>\n",
              "      <td>0.9451</td>\n",
              "      <td>0.9363</td>\n",
              "      <td>0.953944</td>\n",
              "      <td>0.944987</td>\n",
              "      <td>0.196640</td>\n",
              "      <td>0.939517</td>\n",
              "      <td>0.930667</td>\n",
              "      <td>0.950819</td>\n",
              "      <td>0.940591</td>\n",
              "    </tr>\n",
              "    <tr>\n",
              "      <th>13</th>\n",
              "      <td>0.188848</td>\n",
              "      <td>0.9417</td>\n",
              "      <td>0.9345</td>\n",
              "      <td>0.951358</td>\n",
              "      <td>0.942799</td>\n",
              "      <td>0.181100</td>\n",
              "      <td>0.944983</td>\n",
              "      <td>0.936567</td>\n",
              "      <td>0.954873</td>\n",
              "      <td>0.945596</td>\n",
              "    </tr>\n",
              "    <tr>\n",
              "      <th>14</th>\n",
              "      <td>0.166450</td>\n",
              "      <td>0.9464</td>\n",
              "      <td>0.9410</td>\n",
              "      <td>0.952522</td>\n",
              "      <td>0.946691</td>\n",
              "      <td>0.167386</td>\n",
              "      <td>0.948450</td>\n",
              "      <td>0.941017</td>\n",
              "      <td>0.958095</td>\n",
              "      <td>0.949446</td>\n",
              "    </tr>\n",
              "    <tr>\n",
              "      <th>15</th>\n",
              "      <td>0.159784</td>\n",
              "      <td>0.9494</td>\n",
              "      <td>0.9428</td>\n",
              "      <td>0.957230</td>\n",
              "      <td>0.949915</td>\n",
              "      <td>0.156936</td>\n",
              "      <td>0.951783</td>\n",
              "      <td>0.944967</td>\n",
              "      <td>0.959856</td>\n",
              "      <td>0.952324</td>\n",
              "    </tr>\n",
              "    <tr>\n",
              "      <th>16</th>\n",
              "      <td>0.165268</td>\n",
              "      <td>0.9510</td>\n",
              "      <td>0.9435</td>\n",
              "      <td>0.957831</td>\n",
              "      <td>0.950574</td>\n",
              "      <td>0.146247</td>\n",
              "      <td>0.955333</td>\n",
              "      <td>0.948633</td>\n",
              "      <td>0.962710</td>\n",
              "      <td>0.955593</td>\n",
              "    </tr>\n",
              "    <tr>\n",
              "      <th>17</th>\n",
              "      <td>0.142667</td>\n",
              "      <td>0.9578</td>\n",
              "      <td>0.9526</td>\n",
              "      <td>0.964013</td>\n",
              "      <td>0.958243</td>\n",
              "      <td>0.137737</td>\n",
              "      <td>0.957567</td>\n",
              "      <td>0.951617</td>\n",
              "      <td>0.964983</td>\n",
              "      <td>0.958226</td>\n",
              "    </tr>\n",
              "    <tr>\n",
              "      <th>18</th>\n",
              "      <td>0.135298</td>\n",
              "      <td>0.9586</td>\n",
              "      <td>0.9540</td>\n",
              "      <td>0.964038</td>\n",
              "      <td>0.958964</td>\n",
              "      <td>0.129424</td>\n",
              "      <td>0.960533</td>\n",
              "      <td>0.955283</td>\n",
              "      <td>0.967182</td>\n",
              "      <td>0.961175</td>\n",
              "    </tr>\n",
              "    <tr>\n",
              "      <th>19</th>\n",
              "      <td>0.130360</td>\n",
              "      <td>0.9590</td>\n",
              "      <td>0.9547</td>\n",
              "      <td>0.964218</td>\n",
              "      <td>0.959412</td>\n",
              "      <td>0.121040</td>\n",
              "      <td>0.963467</td>\n",
              "      <td>0.958283</td>\n",
              "      <td>0.969242</td>\n",
              "      <td>0.963714</td>\n",
              "    </tr>\n",
              "  </tbody>\n",
              "</table>\n",
              "</div>"
            ],
            "text/plain": [
              "    val_loss  val_acc  val_recall  ...    recall  precision        f1\n",
              "0   2.142743   0.2357      0.0000  ...  0.000000   0.000000  0.000000\n",
              "1   1.832099   0.3710      0.2576  ...  0.065383   0.566431  0.111944\n",
              "2   0.843365   0.6999      0.6057  ...  0.408150   0.791478  0.523513\n",
              "3   0.533924   0.8225      0.7887  ...  0.720650   0.845217  0.777223\n",
              "4   0.406191   0.8740      0.8495  ...  0.815817   0.882878  0.847856\n",
              "5   0.363887   0.8892      0.8657  ...  0.852200   0.901031  0.875808\n",
              "6   0.315958   0.9005      0.8837  ...  0.871850   0.913381  0.892042\n",
              "7   0.318045   0.8965      0.8830  ...  0.887083   0.923648  0.904923\n",
              "8   0.254400   0.9205      0.9078  ...  0.898150   0.929608  0.913544\n",
              "9   0.248090   0.9235      0.9122  ...  0.907733   0.935928  0.921556\n",
              "10  0.212464   0.9354      0.9266  ...  0.917350   0.941762  0.929345\n",
              "11  0.197482   0.9388      0.9304  ...  0.923833   0.946599  0.935024\n",
              "12  0.181232   0.9451      0.9363  ...  0.930667   0.950819  0.940591\n",
              "13  0.188848   0.9417      0.9345  ...  0.936567   0.954873  0.945596\n",
              "14  0.166450   0.9464      0.9410  ...  0.941017   0.958095  0.949446\n",
              "15  0.159784   0.9494      0.9428  ...  0.944967   0.959856  0.952324\n",
              "16  0.165268   0.9510      0.9435  ...  0.948633   0.962710  0.955593\n",
              "17  0.142667   0.9578      0.9526  ...  0.951617   0.964983  0.958226\n",
              "18  0.135298   0.9586      0.9540  ...  0.955283   0.967182  0.961175\n",
              "19  0.130360   0.9590      0.9547  ...  0.958283   0.969242  0.963714\n",
              "\n",
              "[20 rows x 10 columns]"
            ]
          },
          "metadata": {
            "tags": []
          },
          "execution_count": 18
        }
      ]
    },
    {
      "cell_type": "code",
      "metadata": {
        "id": "grlk46oeV2Rz",
        "colab_type": "code",
        "colab": {
          "base_uri": "https://localhost:8080/",
          "height": 390
        },
        "outputId": "61fceecf-f0b0-436c-bb7f-2766bfd83793"
      },
      "source": [
        "scoresANN1[['acc', \"val_acc\"]].plot(figsize=(10, 6), title=\"ACCURACY CURVES\");"
      ],
      "execution_count": 19,
      "outputs": [
        {
          "output_type": "display_data",
          "data": {
            "image/png": "[encoded data removed]",
            "text/plain": [
              "<Figure size 720x432 with 1 Axes>"
            ]
          },
          "metadata": {
            "tags": []
          }
        }
      ]
    },
    {
      "cell_type": "code",
      "metadata": {
        "id": "YxXjVIv3WRqV",
        "colab_type": "code",
        "colab": {
          "base_uri": "https://localhost:8080/",
          "height": 390
        },
        "outputId": "2ee52e77-10ad-4006-9361-9a0424ee7399"
      },
      "source": [
        "scoresANN1[['loss', \"val_loss\"]].plot(figsize=(10, 6), title=\"LOSS CURVES\");"
      ],
      "execution_count": 20,
      "outputs": [
        {
          "output_type": "display_data",
          "data": {
            "image/png": "[encoded data removed]",
            "text/plain": [
              "<Figure size 720x432 with 1 Axes>"
            ]
          },
          "metadata": {
            "tags": []
          }
        }
      ]
    },
    {
      "cell_type": "markdown",
      "metadata": {
        "id": "M30WEjl-z1HQ",
        "colab_type": "text"
      },
      "source": [
        "Tal como se aprecia en los dos gráficos anteriores, el modelo no presenta problemas de bias ni varianza (over-fitting, under-fitting). Ambas curvas discurren paralelas."
      ]
    },
    {
      "cell_type": "markdown",
      "metadata": {
        "id": "syFbfw2YrH33",
        "colab_type": "text"
      },
      "source": [
        "### Predicciones"
      ]
    },
    {
      "cell_type": "markdown",
      "metadata": {
        "id": "Ai7yr2dExd86",
        "colab_type": "text"
      },
      "source": [
        "El método **predict** devuelve un vector con las predicciones para los elementos del conjunto de datos completo. Podemos saber qué clase da la mayor probabilidad de pertenencia mediante la función argmax de Numpy. Que devuelve el índice de la posición que contiene el valor más alto del vector.\n",
        "\n",
        "A modo de pequeño ejemplo se van a predecir los 20 imágenes elegidas al azar de los datos test y comparar con el valor real. Para ello se genera la siguiente función."
      ]
    },
    {
      "cell_type": "code",
      "metadata": {
        "id": "2q-w3_5u6o-G",
        "colab_type": "code",
        "colab": {}
      },
      "source": [
        "def pred_num(model, n_imgs):\n",
        "  \n",
        "  imgs = np.random.randint(0, x_test.shape[0], n_imgs, dtype=int)\n",
        "  print(\"Las imágenes a predecir de x_test tienen como índice: {}\\n\".format(imgs))\n",
        "  \n",
        "  y_preds = np.argmax(model.predict(x_test[imgs]), axis=1)\n",
        "  print(\"La predicción de la clase sobre esas imágenes da como resultado: {}\\n\".format(y_preds))\n",
        "\n",
        "  print(\"Las clases reales sobre esas imágenes son: {}\\n\".format(y_test_[imgs]))\n",
        "\n",
        "  acc_20 = np.equal(y_preds, y_test_[imgs])\n",
        "\n",
        "  print(\"Se comprueba que la accuracy para las {:d} imágenes elegidas al azar es de {:.2f}\".format(n_imgs, acc_20.sum()/n_imgs))\n",
        "\n",
        "  return imgs, n_imgs"
      ],
      "execution_count": 0,
      "outputs": []
    },
    {
      "cell_type": "code",
      "metadata": {
        "id": "ocwC24-y8Dmx",
        "colab_type": "code",
        "colab": {
          "base_uri": "https://localhost:8080/",
          "height": 187
        },
        "outputId": "8f9f0b33-fd34-4516-81de-04d9f34ab81f"
      },
      "source": [
        "pred_num(modelANN1, 20)"
      ],
      "execution_count": 22,
      "outputs": [
        {
          "output_type": "stream",
          "text": [
            "Las imágenes a predecir de x_test tienen como índice: [4658 1695 7694 8472 2774 6535  838  851 8272 2779 6374 4462 8452 4341\n",
            " 7848 2983 9247 6526 5628 8468]\n",
            "\n",
            "La predicción de la clase sobre esas imágenes da como resultado: [7 9 8 4 8 3 4 0 3 0 1 0 4 2 2 9 6 0 3 0]\n",
            "\n",
            "Las clases reales sobre esas imágenes son: [7 9 8 4 8 3 4 0 3 0 1 0 4 2 2 9 6 0 3 0]\n",
            "\n",
            "Se comprueba que la accuracy para las 20 imágenes elegidas al azar es de 1.00\n"
          ],
          "name": "stdout"
        },
        {
          "output_type": "execute_result",
          "data": {
            "text/plain": [
              "(array([4658, 1695, 7694, 8472, 2774, 6535,  838,  851, 8272, 2779, 6374,\n",
              "        4462, 8452, 4341, 7848, 2983, 9247, 6526, 5628, 8468]), 20)"
            ]
          },
          "metadata": {
            "tags": []
          },
          "execution_count": 22
        }
      ]
    },
    {
      "cell_type": "markdown",
      "metadata": {
        "id": "-EcK3S5y2Ah8",
        "colab_type": "text"
      },
      "source": [
        "Por último se presenta la matriz de confusión del modelo. La matriz de confusión es una herramienta que permite la visualización del desempeño de un algoritmo que se emplea en aprendizaje supervisado. Cada columna de la matriz representa el número de predicciones de cada clase, mientras que cada fila representa a las instancias en la clase real. Uno de los beneficios de las matrices de confusión es que facilitan ver si el sistema está confundiendo dos clases.\n",
        "\n",
        "Para ello se ejecuta la siguiente función que ha sido sacada de la página web de SKLEARN."
      ]
    },
    {
      "cell_type": "code",
      "metadata": {
        "id": "9i_LKVaahcEG",
        "colab_type": "code",
        "colab": {}
      },
      "source": [
        "# Look at confusion matrix \n",
        "#Note, this code is taken straight from the SKLEARN website, an nice way of viewing confusion matrix.\n",
        "def plot_confusion_matrix(cm, classes,\n",
        "                          normalize=False,\n",
        "                          title='Confusion matrix',\n",
        "                          cmap=plt.cm.Blues):\n",
        "    \"\"\"\n",
        "    This function prints and plots the confusion matrix.\n",
        "    Normalization can be applied by setting `normalize=True`.\n",
        "    \"\"\"\n",
        "    plt.imshow(cm, interpolation='nearest', cmap=cmap)\n",
        "    plt.title(title)\n",
        "    plt.colorbar()\n",
        "    tick_marks = np.arange(len(classes))\n",
        "    plt.xticks(tick_marks, classes, rotation=45)\n",
        "    plt.yticks(tick_marks, classes)\n",
        "\n",
        "    if normalize:\n",
        "        cm = cm.astype('float') / cm.sum(axis=1)[:, np.newaxis]\n",
        "\n",
        "    thresh = cm.max() / 2.\n",
        "    for i, j in itertools.product(range(cm.shape[0]), range(cm.shape[1])):\n",
        "        plt.text(j, i, cm[i, j],\n",
        "                 horizontalalignment=\"center\",\n",
        "                 color=\"white\" if cm[i, j] > thresh else \"black\")\n",
        "\n",
        "    plt.tight_layout()\n",
        "    plt.ylabel('Observación')\n",
        "    plt.xlabel('Predicción')"
      ],
      "execution_count": 0,
      "outputs": []
    },
    {
      "cell_type": "code",
      "metadata": {
        "id": "M_Ba-Q7Z2J3t",
        "colab_type": "code",
        "colab": {
          "base_uri": "https://localhost:8080/",
          "height": 311
        },
        "outputId": "18d7594e-9d85-422b-aca8-85d28aabb691"
      },
      "source": [
        "# Predict the values from the validation dataset\n",
        "Y_pred = modelANN1.predict(x_test)\n",
        "# Convert predictions classes to one hot vectors \n",
        "Y_pred_classes = np.argmax(Y_pred, axis = 1) \n",
        "# Convert validation observations to one hot vectors\n",
        "Y_true = np.argmax(y_test, axis = 1) \n",
        "# compute the confusion matrix\n",
        "confusion_mtx = confusion_matrix(Y_true, Y_pred_classes) \n",
        "# plot the confusion matrix\n",
        "plot_confusion_matrix(confusion_mtx, classes = range(10))"
      ],
      "execution_count": 24,
      "outputs": [
        {
          "output_type": "display_data",
          "data": {
            "image/png": "[encoded data removed]",
            "text/plain": [
              "<Figure size 432x288 with 2 Axes>"
            ]
          },
          "metadata": {
            "tags": []
          }
        }
      ]
    },
    {
      "cell_type": "markdown",
      "metadata": {
        "id": "UEQkcOve1GGZ",
        "colab_type": "text"
      },
      "source": [
        "Finalmente se guarda el modelo."
      ]
    },
    {
      "cell_type": "code",
      "metadata": {
        "id": "OTu0UbKR1F0L",
        "colab_type": "code",
        "colab": {}
      },
      "source": [
        "modelANN1.save(\"modelANN1.h5\")"
      ],
      "execution_count": 0,
      "outputs": []
    },
    {
      "cell_type": "markdown",
      "metadata": {
        "id": "fimAxNT0vWOR",
        "colab_type": "text"
      },
      "source": [
        "## Aplicación Red Simple Convolucional. CNN "
      ]
    },
    {
      "cell_type": "markdown",
      "metadata": {
        "id": "pAWmvyMJKaX1",
        "colab_type": "text"
      },
      "source": [
        "En este segundo apartado se va a realizar un diseño de red neural convolucional."
      ]
    },
    {
      "cell_type": "markdown",
      "metadata": {
        "id": "B-dMT8Uwaa4-",
        "colab_type": "text"
      },
      "source": [
        "### Carga y transformación de dataset"
      ]
    },
    {
      "cell_type": "markdown",
      "metadata": {
        "id": "-4RANBZFxsjc",
        "colab_type": "text"
      },
      "source": [
        "Para la carga de datos se hace uso de la siguiente función. En ella se utiliza el módulo propio de Keras, denominado ***dataset***, en el que se encuentran diferentes datasets de testing. En este caso se usará el correpondiente al **MNIST**.\n",
        "\n",
        "\n",
        "Las variables **img_rows** y **img_cols** son usadas para indicar las dimensiones de las imágenes a utilizar. En este caso son 28 pixeles de alto y 28 pixeles de ancho. \n",
        "\n",
        "También se realiza el chequeo necesaria por el cual se determina en qué posición del tensor (si no se tiene en cuenta la primera dimensión correspondiente al batch) se encuentra el eje del canal por defecto en keras.  En este caso concreto, keras se encuentra configurado de tal forma que el canal se encuentra en la dimensión 4 del tensor. Sabido esto, se redimensiona el tensor imagen. \n",
        "\n",
        "Es necesario normalizar los valores de cada uno de los pixeles de cada imagen tanto en las que van a ser usadas para train como para test. Se recuerda que MNIST se compone de imágenes en escala de grises codificados en 8 bits, esto es, los valores van desde 0 a 255. Por lo tanto, se dividen entre 255 para obtener valores entre 0 y 1.\n",
        "\n",
        "Por último, ya que la salida del modelo comprende cualquier número comprendido entre 0 y 9 se necesitan 10 clases para la salida. Para la creación de las 10 clases se usa la función **keras.util.to_categorical**. De los 10 valores generados para cada una de las clases, sólamente uno será igual a 1, el resto será igual a 0. Dicho valor único representará unívocamente el valor de la clase representativa del dígito a predecir. "
      ]
    },
    {
      "cell_type": "code",
      "metadata": {
        "id": "aikDSB1J0_OZ",
        "colab_type": "code",
        "colab": {}
      },
      "source": [
        "def data_COVNet(x_train, y_train, x_test, y_test):\n",
        "\n",
        "  img_rows, img_cols = 28, 28\n",
        "  num_classes = 10\n",
        "\n",
        "  if K.image_data_format() == 'channels_first':\n",
        "    x_train = x_train.reshape(x_train.shape[0], 1, img_rows, img_cols)\n",
        "    x_test = x_test.reshape(x_test.shape[0], 1, img_rows, img_cols)\n",
        "    input_shape = (1, img_rows, img_cols)\n",
        "  else:\n",
        "    x_train = x_train.reshape(x_train.shape[0], img_rows, img_cols, 1)\n",
        "    x_test = x_test.reshape(x_test.shape[0], img_rows, img_cols, 1)\n",
        "    input_shape = (img_rows, img_cols, 1)\n",
        "\n",
        "  x_train = x_train.astype('float32')\n",
        "  x_test = x_test.astype('float32')\n",
        "  x_train /= 255\n",
        "  x_test /= 255\n",
        "  \n",
        "  # convierte clases del target en vectores binarios de dim=10\n",
        "  y_train = keras.utils.to_categorical(y_train, num_classes)\n",
        "  y_test = keras.utils.to_categorical(y_test, num_classes)\n",
        "\n",
        "  return (x_train, y_train), (x_test, y_test)"
      ],
      "execution_count": 0,
      "outputs": []
    },
    {
      "cell_type": "markdown",
      "metadata": {
        "id": "wjLEzHB39xyc",
        "colab_type": "text"
      },
      "source": [
        "Definida la función se ejecuta para obtener los tensores necesarios para los procesos de entrenamiento y test. "
      ]
    },
    {
      "cell_type": "code",
      "metadata": {
        "id": "cvIi0Xos1bo4",
        "colab_type": "code",
        "colab": {}
      },
      "source": [
        "(x_train, y_train), (x_test, y_test) = data_COVNet(x_train_, y_train_, x_test_, \n",
        "                                                   y_test_)"
      ],
      "execution_count": 0,
      "outputs": []
    },
    {
      "cell_type": "markdown",
      "metadata": {
        "id": "HSIBJCxH-97x",
        "colab_type": "text"
      },
      "source": [
        "Como ejemplo, se muestran las tres primeras imágenes del dataset de entrenamiento."
      ]
    },
    {
      "cell_type": "code",
      "metadata": {
        "id": "JVXTS4Yl49-p",
        "colab_type": "code",
        "outputId": "6e2b09ec-283a-465f-d9f8-81500744b9fd",
        "colab": {
          "base_uri": "https://localhost:8080/",
          "height": 227
        }
      },
      "source": [
        "fig, axs = plt.subplots(1, 3, figsize=(10, 3))\n",
        "for img, ax in enumerate(axs):\n",
        "    ax.imshow(np.squeeze(x_train[img]), cmap=\"gray\")\n",
        "    ax.set_title(\"Imagen \"+ str(img))\n",
        "plt.show()"
      ],
      "execution_count": 28,
      "outputs": [
        {
          "output_type": "display_data",
          "data": {
            "image/png": "[encoded data removed]",
            "text/plain": [
              "<Figure size 720x216 with 3 Axes>"
            ]
          },
          "metadata": {
            "tags": []
          }
        }
      ]
    },
    {
      "cell_type": "markdown",
      "metadata": {
        "id": "WAjLkE5G_ISy",
        "colab_type": "text"
      },
      "source": [
        "Así mismo se muestran los valores correspondientes del target de las imágenes anteriores."
      ]
    },
    {
      "cell_type": "code",
      "metadata": {
        "id": "u40Nmavx7hAc",
        "colab_type": "code",
        "outputId": "aef45ff6-953c-4a5d-c30e-cb37aff21746",
        "colab": {
          "base_uri": "https://localhost:8080/",
          "height": 68
        }
      },
      "source": [
        "for i, img in enumerate(np.argmax(y_train[:3], axis=1)):\n",
        "  print(\"El valor del target para la imagen {:d} es: {:d}\".format(i, img))"
      ],
      "execution_count": 29,
      "outputs": [
        {
          "output_type": "stream",
          "text": [
            "El valor del target para la imagen 0 es: 5\n",
            "El valor del target para la imagen 1 es: 0\n",
            "El valor del target para la imagen 2 es: 4\n"
          ],
          "name": "stdout"
        }
      ]
    },
    {
      "cell_type": "code",
      "metadata": {
        "id": "4BEluv4_1g2x",
        "colab_type": "code",
        "outputId": "af8d89b2-2185-4aac-c907-b1489bcdbd14",
        "colab": {
          "base_uri": "https://localhost:8080/",
          "height": 34
        }
      },
      "source": [
        "# input image dimensions\n",
        "input_shape = x_train.shape[1:]\n",
        "\n",
        "print(\"Las dimensiones del tensor de entrada es: {}\".format(input_shape))"
      ],
      "execution_count": 30,
      "outputs": [
        {
          "output_type": "stream",
          "text": [
            "Las dimensiones del tensor de entrada es: (28, 28, 1)\n"
          ],
          "name": "stdout"
        }
      ]
    },
    {
      "cell_type": "markdown",
      "metadata": {
        "id": "vzTMEyrNaoUo",
        "colab_type": "text"
      },
      "source": [
        "### Generación del modelo"
      ]
    },
    {
      "cell_type": "markdown",
      "metadata": {
        "id": "yOz38LZ6VDv4",
        "colab_type": "text"
      },
      "source": [
        "Para la generación del modelo se va a emplear la siguiente función por la cual, a través de unos determinados parámetros de entradas, un modelo de red neuronal convolucional, con una determinada arquitectura, es generado.\n",
        "\n",
        "Los parámetros de entrada de la función son:\n",
        "\n",
        "1. El número de filtros de las capas convolucionales. Por defecto toma los valores de 32 y 64 respectivamente.\n",
        "\n",
        "2. El tamano de los filtros: se establece por defecto el tamaño de (3, 3).\n",
        "\n",
        "3. El tamaño del filtro maxpooling. Por defecto se establece (2, 2).\n",
        "\n",
        "4. El proporción de conexiones a eliminar en una capa dropout. Por defecto se establece en 0.25.\n",
        "\n",
        "5. El algotitmo de optimización. Por defecto será el \"adadelta\". \n",
        "\n",
        "6. La función de activación de las capas. Se establece por defecto la función \"relu\".\n",
        "\n",
        "La arquitectura del modelo está definida por:\n",
        "\n",
        "1. La capa 1 es una capa convolucional donde el número de filtros que tiene viene dado por un parámetro de entrada de la función. El resto de los parámetros son los parámetros por defecto.\n",
        "\n",
        "2. La capa 2 es una capa convolucional donde el número de filtros que tiene viene dado por un parámetro de entrada de la función. El resto de los parámetros son los parámetros por defecto.\n",
        "\n",
        "3. La capa 3 es una capa MaxPooling que toma el valor máximo de una matriz cuya tamaño viene dado como parámetro de entrada de la función.\n",
        "\n",
        "4. La capa 4 es una capa Dropout que elimina aleatoriamente las conexiones con la siguiente capa de acuerdo al parámatro rate que se toma como entrada de la función.\n",
        "\n",
        "5. La capa 5 es una capa Flatten por la que se cambia la dimensión del tensor  entrada a la siguiente capa densa.\n",
        "\n",
        "6. La capa 6 es una capa Dropout que elimina aleatoriamente las conexiones con la siguiente capa de acuerdo al parámatro rate que se toma como entrada de la función.\n",
        "\n",
        "7. La capa 7 es una capa de salida densa con 10 neuronas para la correcta clasificación de las diez clases de números. La función de activación es la softmax.\n",
        "\n",
        "Dentro de la función se encuentra también la compilación del mismo. Por medio de la compilación se definen, entre otras cosas:\n",
        "\n",
        "\n",
        "1.   La función de pérdida. Loss Function\n",
        "\n",
        "2.   El algoritmo de optimización. Optimizer\n",
        "\n",
        "3.   Las métricas usadas para la evaluación del modelo\n",
        "\n",
        "\n",
        "La función tiene como salido el modelo propuesto.\n"
      ]
    },
    {
      "cell_type": "code",
      "metadata": {
        "id": "Gr_c-1Qq1j47",
        "colab_type": "code",
        "colab": {}
      },
      "source": [
        "def CONVNet(filters=[32, 64], kernel_size=(3, 3), pool_size=(2, 2), rate=0.25,\n",
        "             optimizer=\"adadelta\", activation='relu'):\n",
        "\n",
        "  model = Sequential()\n",
        "  model.add(Conv2D(filters=filters[0], kernel_size=kernel_size,\n",
        "                 activation=activation,\n",
        "                 input_shape=input_shape))\n",
        "  model.add(Conv2D(filters=filters[1], kernel_size=kernel_size, \n",
        "                   activation=activation))\n",
        "  model.add(MaxPooling2D(pool_size=pool_size))\n",
        "  model.add(Dropout(rate=rate))\n",
        "  model.add(Flatten())\n",
        "  model.add(Dropout(rate=rate))\n",
        "  model.add(Dense(10, activation='softmax'))\n",
        "\n",
        "  # compilación del modelo\n",
        "  model.compile(loss=\"categorical_crossentropy\",\n",
        "                optimizer=optimizer,\n",
        "                metrics=['accuracy', recall, precision, f1])\n",
        "  \n",
        "  return model"
      ],
      "execution_count": 0,
      "outputs": []
    },
    {
      "cell_type": "markdown",
      "metadata": {
        "id": "oK4Qla8qVUAK",
        "colab_type": "text"
      },
      "source": [
        "Ejecutando la función definida generamos el primer modelo convolucional."
      ]
    },
    {
      "cell_type": "code",
      "metadata": {
        "id": "MzzWN46KJSzo",
        "colab_type": "code",
        "colab": {
          "base_uri": "https://localhost:8080/",
          "height": 156
        },
        "outputId": "7a40b16e-60b8-4def-9423-16959f39f9c2"
      },
      "source": [
        "modelCONVNet1 = CONVNet();"
      ],
      "execution_count": 32,
      "outputs": [
        {
          "output_type": "stream",
          "text": [
            "WARNING:tensorflow:From /usr/local/lib/python3.6/dist-packages/keras/backend/tensorflow_backend.py:4267: The name tf.nn.max_pool is deprecated. Please use tf.nn.max_pool2d instead.\n",
            "\n",
            "WARNING:tensorflow:From /usr/local/lib/python3.6/dist-packages/keras/backend/tensorflow_backend.py:148: The name tf.placeholder_with_default is deprecated. Please use tf.compat.v1.placeholder_with_default instead.\n",
            "\n",
            "WARNING:tensorflow:From /usr/local/lib/python3.6/dist-packages/keras/backend/tensorflow_backend.py:3733: calling dropout (from tensorflow.python.ops.nn_ops) with keep_prob is deprecated and will be removed in a future version.\n",
            "Instructions for updating:\n",
            "Please use `rate` instead of `keep_prob`. Rate should be set to `rate = 1 - keep_prob`.\n"
          ],
          "name": "stdout"
        }
      ]
    },
    {
      "cell_type": "markdown",
      "metadata": {
        "id": "YNv0bgwbbwxx",
        "colab_type": "text"
      },
      "source": [
        "### Sumario del modelo"
      ]
    },
    {
      "cell_type": "markdown",
      "metadata": {
        "id": "GwfhDOC1VbLj",
        "colab_type": "text"
      },
      "source": [
        "Ejecutando el código siguiente se obtienen las diferentes capas de la red con las dimensiones de sus salidas así como el número de parámetros por las cuales quedan definidas y que deben ser entrenados."
      ]
    },
    {
      "cell_type": "code",
      "metadata": {
        "id": "kPqtmbKS-EWm",
        "colab_type": "code",
        "outputId": "7323aa09-acf7-420d-b33e-c33b29d2074b",
        "colab": {
          "base_uri": "https://localhost:8080/",
          "height": 391
        }
      },
      "source": [
        "modelCONVNet1.summary()"
      ],
      "execution_count": 33,
      "outputs": [
        {
          "output_type": "stream",
          "text": [
            "Model: \"sequential_2\"\n",
            "_________________________________________________________________\n",
            "Layer (type)                 Output Shape              Param #   \n",
            "=================================================================\n",
            "conv2d_1 (Conv2D)            (None, 26, 26, 32)        320       \n",
            "_________________________________________________________________\n",
            "conv2d_2 (Conv2D)            (None, 24, 24, 64)        18496     \n",
            "_________________________________________________________________\n",
            "max_pooling2d_1 (MaxPooling2 (None, 12, 12, 64)        0         \n",
            "_________________________________________________________________\n",
            "dropout_1 (Dropout)          (None, 12, 12, 64)        0         \n",
            "_________________________________________________________________\n",
            "flatten_1 (Flatten)          (None, 9216)              0         \n",
            "_________________________________________________________________\n",
            "dropout_2 (Dropout)          (None, 9216)              0         \n",
            "_________________________________________________________________\n",
            "dense_5 (Dense)              (None, 10)                92170     \n",
            "=================================================================\n",
            "Total params: 110,986\n",
            "Trainable params: 110,986\n",
            "Non-trainable params: 0\n",
            "_________________________________________________________________\n"
          ],
          "name": "stdout"
        }
      ]
    },
    {
      "cell_type": "markdown",
      "metadata": {
        "id": "A-wHBeiGYy5r",
        "colab_type": "text"
      },
      "source": [
        "Esquematicamente la red queda representada tal como se muestra a continuación."
      ]
    },
    {
      "cell_type": "code",
      "metadata": {
        "id": "OQll_9W9-RWF",
        "colab_type": "code",
        "outputId": "e34ab3e1-5357-4112-9d46-bf46edc868ce",
        "colab": {
          "base_uri": "https://localhost:8080/",
          "height": 758
        }
      },
      "source": [
        "plot_model(modelCONVNet1)"
      ],
      "execution_count": 34,
      "outputs": [
        {
          "output_type": "execute_result",
          "data": {
            "image/png": "[encoded data removed]",
            "text/plain": [
              "<IPython.core.display.Image object>"
            ]
          },
          "metadata": {
            "tags": []
          },
          "execution_count": 34
        }
      ]
    },
    {
      "cell_type": "markdown",
      "metadata": {
        "id": "Hx4JPj_zb7eA",
        "colab_type": "text"
      },
      "source": [
        "### Entrenamiento del modelo"
      ]
    },
    {
      "cell_type": "markdown",
      "metadata": {
        "id": "Oo0KoDjnZKHX",
        "colab_type": "text"
      },
      "source": [
        "Una vez definido el modelo, la siguiente fase correspondería al entrenamiento del modelo.\n",
        "\n",
        "Para ello se definen los parámetros de:\n",
        "\n",
        "1. BATCH_SIZE: corresponde al número de ejemplares que el algoritmo \"verá\" de golpe para cada paso de entrenamiento.\n",
        "\n",
        "2. EPOCHS: el número de veces que el algoritmo verá el data set completo.\n",
        "\n",
        "En la función de entrenamiento se facilitan asímismo los datos test para la estimación de los valores de validación. Esto es necesario para comprobar si el modelo que se está obteniendo es capaz de generalizar de forma adecuada y no sólamente sobre-aprender el data set de entrenamiento."
      ]
    },
    {
      "cell_type": "code",
      "metadata": {
        "id": "c2ldUmxoF9tn",
        "colab_type": "code",
        "colab": {}
      },
      "source": [
        "BATCH_SIZE = 128\n",
        "EPOCHS = 20"
      ],
      "execution_count": 0,
      "outputs": []
    },
    {
      "cell_type": "code",
      "metadata": {
        "id": "uGdjKZ_42lUF",
        "colab_type": "code",
        "colab": {}
      },
      "source": [
        "historyCONVNet1 = modelCONVNet1.fit(x_train, y_train,\n",
        "                                    batch_size=BATCH_SIZE,\n",
        "                                    epochs=EPOCHS,\n",
        "                                    verbose=0,\n",
        "                                    validation_data=(x_test, y_test));"
      ],
      "execution_count": 0,
      "outputs": []
    },
    {
      "cell_type": "markdown",
      "metadata": {
        "id": "vgXYmXupzs2g",
        "colab_type": "text"
      },
      "source": [
        "Realizado el entranemiento se evalúan los datos test. Como se aprecia se ha conseguido obtener una precisión, esto es, los ejemplares correctamente clasificados de : "
      ]
    },
    {
      "cell_type": "code",
      "metadata": {
        "id": "TTeg7Bd4TAss",
        "colab_type": "code",
        "colab": {
          "base_uri": "https://localhost:8080/",
          "height": 102
        },
        "outputId": "c3af6832-892d-424e-9d23-91fa30793dc8"
      },
      "source": [
        "lossCONVNet1, accCONVNet1, recallCONVNet1, precisionCONVNet1, f1CONVNet1  = \\\n",
        "                              modelCONVNet1.evaluate(x_test, y_test, verbose=0)\n",
        "\n",
        "print('Test loss:', lossCONVNet1)\n",
        "print('Test accuracy:', accCONVNet1)\n",
        "print('Test recall:', recallCONVNet1)\n",
        "print('Test precision:', precisionCONVNet1)\n",
        "print('Test F1:', f1CONVNet1)"
      ],
      "execution_count": 38,
      "outputs": [
        {
          "output_type": "stream",
          "text": [
            "Test loss: 0.029934956191582023\n",
            "Test accuracy: 0.9906\n",
            "Test recall: 0.9904\n",
            "Test precision: 0.9906903224945068\n",
            "Test F1: 0.9905428426742554\n"
          ],
          "name": "stdout"
        }
      ]
    },
    {
      "cell_type": "markdown",
      "metadata": {
        "id": "uAuQ7Cf3Uu92",
        "colab_type": "text"
      },
      "source": [
        "### Curvas de aprendizaje y validación"
      ]
    },
    {
      "cell_type": "markdown",
      "metadata": {
        "id": "6U-9LK-RzgAi",
        "colab_type": "text"
      },
      "source": [
        "Una vez realizado el entrenamiento se muestran las curvas de aprendizaje y validación para la función de pérdida y la precisión."
      ]
    },
    {
      "cell_type": "code",
      "metadata": {
        "id": "ll7zfhZV25c2",
        "colab_type": "code",
        "outputId": "68ac6f60-7043-47aa-83e7-12bc0150a15c",
        "colab": {
          "base_uri": "https://localhost:8080/",
          "height": 669
        }
      },
      "source": [
        "scoresCONVNet1 = pd.DataFrame(historyCONVNet1.history)\n",
        "scoresCONVNet1"
      ],
      "execution_count": 39,
      "outputs": [
        {
          "output_type": "execute_result",
          "data": {
            "text/html": [
              "<div>\n",
              "<style scoped>\n",
              "    .dataframe tbody tr th:only-of-type {\n",
              "        vertical-align: middle;\n",
              "    }\n",
              "\n",
              "    .dataframe tbody tr th {\n",
              "        vertical-align: top;\n",
              "    }\n",
              "\n",
              "    .dataframe thead th {\n",
              "        text-align: right;\n",
              "    }\n",
              "</style>\n",
              "<table border=\"1\" class=\"dataframe\">\n",
              "  <thead>\n",
              "    <tr style=\"text-align: right;\">\n",
              "      <th></th>\n",
              "      <th>val_loss</th>\n",
              "      <th>val_acc</th>\n",
              "      <th>val_recall</th>\n",
              "      <th>val_precision</th>\n",
              "      <th>val_f1</th>\n",
              "      <th>loss</th>\n",
              "      <th>acc</th>\n",
              "      <th>recall</th>\n",
              "      <th>precision</th>\n",
              "      <th>f1</th>\n",
              "    </tr>\n",
              "  </thead>\n",
              "  <tbody>\n",
              "    <tr>\n",
              "      <th>0</th>\n",
              "      <td>0.066541</td>\n",
              "      <td>0.9796</td>\n",
              "      <td>0.9765</td>\n",
              "      <td>0.982052</td>\n",
              "      <td>0.979248</td>\n",
              "      <td>0.241774</td>\n",
              "      <td>0.926450</td>\n",
              "      <td>0.903967</td>\n",
              "      <td>0.941282</td>\n",
              "      <td>0.919500</td>\n",
              "    </tr>\n",
              "    <tr>\n",
              "      <th>1</th>\n",
              "      <td>0.052436</td>\n",
              "      <td>0.9845</td>\n",
              "      <td>0.9828</td>\n",
              "      <td>0.986629</td>\n",
              "      <td>0.984703</td>\n",
              "      <td>0.078071</td>\n",
              "      <td>0.976633</td>\n",
              "      <td>0.973683</td>\n",
              "      <td>0.979423</td>\n",
              "      <td>0.976534</td>\n",
              "    </tr>\n",
              "    <tr>\n",
              "      <th>2</th>\n",
              "      <td>0.043129</td>\n",
              "      <td>0.9861</td>\n",
              "      <td>0.9845</td>\n",
              "      <td>0.987546</td>\n",
              "      <td>0.986015</td>\n",
              "      <td>0.059335</td>\n",
              "      <td>0.982067</td>\n",
              "      <td>0.980517</td>\n",
              "      <td>0.984277</td>\n",
              "      <td>0.982385</td>\n",
              "    </tr>\n",
              "    <tr>\n",
              "      <th>3</th>\n",
              "      <td>0.037321</td>\n",
              "      <td>0.9878</td>\n",
              "      <td>0.9865</td>\n",
              "      <td>0.988866</td>\n",
              "      <td>0.987676</td>\n",
              "      <td>0.049507</td>\n",
              "      <td>0.985450</td>\n",
              "      <td>0.983817</td>\n",
              "      <td>0.987335</td>\n",
              "      <td>0.985566</td>\n",
              "    </tr>\n",
              "    <tr>\n",
              "      <th>4</th>\n",
              "      <td>0.038324</td>\n",
              "      <td>0.9871</td>\n",
              "      <td>0.9850</td>\n",
              "      <td>0.988344</td>\n",
              "      <td>0.986659</td>\n",
              "      <td>0.043677</td>\n",
              "      <td>0.986817</td>\n",
              "      <td>0.985500</td>\n",
              "      <td>0.988498</td>\n",
              "      <td>0.986991</td>\n",
              "    </tr>\n",
              "    <tr>\n",
              "      <th>5</th>\n",
              "      <td>0.034655</td>\n",
              "      <td>0.9884</td>\n",
              "      <td>0.9877</td>\n",
              "      <td>0.988791</td>\n",
              "      <td>0.988242</td>\n",
              "      <td>0.039613</td>\n",
              "      <td>0.988017</td>\n",
              "      <td>0.987133</td>\n",
              "      <td>0.989411</td>\n",
              "      <td>0.988267</td>\n",
              "    </tr>\n",
              "    <tr>\n",
              "      <th>6</th>\n",
              "      <td>0.030983</td>\n",
              "      <td>0.9894</td>\n",
              "      <td>0.9885</td>\n",
              "      <td>0.990669</td>\n",
              "      <td>0.989580</td>\n",
              "      <td>0.036569</td>\n",
              "      <td>0.989200</td>\n",
              "      <td>0.988133</td>\n",
              "      <td>0.990196</td>\n",
              "      <td>0.989160</td>\n",
              "    </tr>\n",
              "    <tr>\n",
              "      <th>7</th>\n",
              "      <td>0.034467</td>\n",
              "      <td>0.9879</td>\n",
              "      <td>0.9870</td>\n",
              "      <td>0.989161</td>\n",
              "      <td>0.988074</td>\n",
              "      <td>0.034165</td>\n",
              "      <td>0.989967</td>\n",
              "      <td>0.989283</td>\n",
              "      <td>0.990952</td>\n",
              "      <td>0.990113</td>\n",
              "    </tr>\n",
              "    <tr>\n",
              "      <th>8</th>\n",
              "      <td>0.030917</td>\n",
              "      <td>0.9895</td>\n",
              "      <td>0.9888</td>\n",
              "      <td>0.990080</td>\n",
              "      <td>0.989437</td>\n",
              "      <td>0.032383</td>\n",
              "      <td>0.990100</td>\n",
              "      <td>0.989317</td>\n",
              "      <td>0.991214</td>\n",
              "      <td>0.990261</td>\n",
              "    </tr>\n",
              "    <tr>\n",
              "      <th>9</th>\n",
              "      <td>0.030151</td>\n",
              "      <td>0.9908</td>\n",
              "      <td>0.9902</td>\n",
              "      <td>0.991484</td>\n",
              "      <td>0.990839</td>\n",
              "      <td>0.029583</td>\n",
              "      <td>0.990867</td>\n",
              "      <td>0.990250</td>\n",
              "      <td>0.991668</td>\n",
              "      <td>0.990956</td>\n",
              "    </tr>\n",
              "    <tr>\n",
              "      <th>10</th>\n",
              "      <td>0.029489</td>\n",
              "      <td>0.9902</td>\n",
              "      <td>0.9899</td>\n",
              "      <td>0.990588</td>\n",
              "      <td>0.990243</td>\n",
              "      <td>0.028478</td>\n",
              "      <td>0.991517</td>\n",
              "      <td>0.990733</td>\n",
              "      <td>0.992255</td>\n",
              "      <td>0.991490</td>\n",
              "    </tr>\n",
              "    <tr>\n",
              "      <th>11</th>\n",
              "      <td>0.030651</td>\n",
              "      <td>0.9891</td>\n",
              "      <td>0.9885</td>\n",
              "      <td>0.989876</td>\n",
              "      <td>0.989185</td>\n",
              "      <td>0.026937</td>\n",
              "      <td>0.991867</td>\n",
              "      <td>0.991383</td>\n",
              "      <td>0.992588</td>\n",
              "      <td>0.991983</td>\n",
              "    </tr>\n",
              "    <tr>\n",
              "      <th>12</th>\n",
              "      <td>0.030349</td>\n",
              "      <td>0.9907</td>\n",
              "      <td>0.9901</td>\n",
              "      <td>0.991281</td>\n",
              "      <td>0.990687</td>\n",
              "      <td>0.026123</td>\n",
              "      <td>0.992150</td>\n",
              "      <td>0.991517</td>\n",
              "      <td>0.992675</td>\n",
              "      <td>0.992093</td>\n",
              "    </tr>\n",
              "    <tr>\n",
              "      <th>13</th>\n",
              "      <td>0.030860</td>\n",
              "      <td>0.9899</td>\n",
              "      <td>0.9895</td>\n",
              "      <td>0.990288</td>\n",
              "      <td>0.989892</td>\n",
              "      <td>0.024344</td>\n",
              "      <td>0.992867</td>\n",
              "      <td>0.992450</td>\n",
              "      <td>0.993378</td>\n",
              "      <td>0.992912</td>\n",
              "    </tr>\n",
              "    <tr>\n",
              "      <th>14</th>\n",
              "      <td>0.031493</td>\n",
              "      <td>0.9895</td>\n",
              "      <td>0.9887</td>\n",
              "      <td>0.990276</td>\n",
              "      <td>0.989483</td>\n",
              "      <td>0.022883</td>\n",
              "      <td>0.993100</td>\n",
              "      <td>0.992633</td>\n",
              "      <td>0.993628</td>\n",
              "      <td>0.993128</td>\n",
              "    </tr>\n",
              "    <tr>\n",
              "      <th>15</th>\n",
              "      <td>0.030034</td>\n",
              "      <td>0.9902</td>\n",
              "      <td>0.9901</td>\n",
              "      <td>0.990986</td>\n",
              "      <td>0.990541</td>\n",
              "      <td>0.022497</td>\n",
              "      <td>0.993317</td>\n",
              "      <td>0.992750</td>\n",
              "      <td>0.993894</td>\n",
              "      <td>0.993320</td>\n",
              "    </tr>\n",
              "    <tr>\n",
              "      <th>16</th>\n",
              "      <td>0.031136</td>\n",
              "      <td>0.9901</td>\n",
              "      <td>0.9898</td>\n",
              "      <td>0.990886</td>\n",
              "      <td>0.990341</td>\n",
              "      <td>0.020311</td>\n",
              "      <td>0.993733</td>\n",
              "      <td>0.993467</td>\n",
              "      <td>0.994330</td>\n",
              "      <td>0.993896</td>\n",
              "    </tr>\n",
              "    <tr>\n",
              "      <th>17</th>\n",
              "      <td>0.028738</td>\n",
              "      <td>0.9911</td>\n",
              "      <td>0.9907</td>\n",
              "      <td>0.991587</td>\n",
              "      <td>0.991141</td>\n",
              "      <td>0.020852</td>\n",
              "      <td>0.993933</td>\n",
              "      <td>0.993500</td>\n",
              "      <td>0.994329</td>\n",
              "      <td>0.993913</td>\n",
              "    </tr>\n",
              "    <tr>\n",
              "      <th>18</th>\n",
              "      <td>0.030706</td>\n",
              "      <td>0.9907</td>\n",
              "      <td>0.9906</td>\n",
              "      <td>0.991092</td>\n",
              "      <td>0.990845</td>\n",
              "      <td>0.019237</td>\n",
              "      <td>0.994133</td>\n",
              "      <td>0.993867</td>\n",
              "      <td>0.994562</td>\n",
              "      <td>0.994213</td>\n",
              "    </tr>\n",
              "    <tr>\n",
              "      <th>19</th>\n",
              "      <td>0.029935</td>\n",
              "      <td>0.9906</td>\n",
              "      <td>0.9904</td>\n",
              "      <td>0.990694</td>\n",
              "      <td>0.990546</td>\n",
              "      <td>0.018192</td>\n",
              "      <td>0.994267</td>\n",
              "      <td>0.994017</td>\n",
              "      <td>0.994647</td>\n",
              "      <td>0.994331</td>\n",
              "    </tr>\n",
              "  </tbody>\n",
              "</table>\n",
              "</div>"
            ],
            "text/plain": [
              "    val_loss  val_acc  val_recall  ...    recall  precision        f1\n",
              "0   0.066541   0.9796      0.9765  ...  0.903967   0.941282  0.919500\n",
              "1   0.052436   0.9845      0.9828  ...  0.973683   0.979423  0.976534\n",
              "2   0.043129   0.9861      0.9845  ...  0.980517   0.984277  0.982385\n",
              "3   0.037321   0.9878      0.9865  ...  0.983817   0.987335  0.985566\n",
              "4   0.038324   0.9871      0.9850  ...  0.985500   0.988498  0.986991\n",
              "5   0.034655   0.9884      0.9877  ...  0.987133   0.989411  0.988267\n",
              "6   0.030983   0.9894      0.9885  ...  0.988133   0.990196  0.989160\n",
              "7   0.034467   0.9879      0.9870  ...  0.989283   0.990952  0.990113\n",
              "8   0.030917   0.9895      0.9888  ...  0.989317   0.991214  0.990261\n",
              "9   0.030151   0.9908      0.9902  ...  0.990250   0.991668  0.990956\n",
              "10  0.029489   0.9902      0.9899  ...  0.990733   0.992255  0.991490\n",
              "11  0.030651   0.9891      0.9885  ...  0.991383   0.992588  0.991983\n",
              "12  0.030349   0.9907      0.9901  ...  0.991517   0.992675  0.992093\n",
              "13  0.030860   0.9899      0.9895  ...  0.992450   0.993378  0.992912\n",
              "14  0.031493   0.9895      0.9887  ...  0.992633   0.993628  0.993128\n",
              "15  0.030034   0.9902      0.9901  ...  0.992750   0.993894  0.993320\n",
              "16  0.031136   0.9901      0.9898  ...  0.993467   0.994330  0.993896\n",
              "17  0.028738   0.9911      0.9907  ...  0.993500   0.994329  0.993913\n",
              "18  0.030706   0.9907      0.9906  ...  0.993867   0.994562  0.994213\n",
              "19  0.029935   0.9906      0.9904  ...  0.994017   0.994647  0.994331\n",
              "\n",
              "[20 rows x 10 columns]"
            ]
          },
          "metadata": {
            "tags": []
          },
          "execution_count": 39
        }
      ]
    },
    {
      "cell_type": "code",
      "metadata": {
        "id": "TeTdUwov5jUK",
        "colab_type": "code",
        "outputId": "f4c55afd-a96a-4885-ca87-a9047b7ad286",
        "colab": {
          "base_uri": "https://localhost:8080/",
          "height": 390
        }
      },
      "source": [
        "scoresCONVNet1[['acc', \"val_acc\"]].plot(figsize=(10, 6), title=\"ACCURACY CURVES\");"
      ],
      "execution_count": 40,
      "outputs": [
        {
          "output_type": "display_data",
          "data": {
            "image/png": "[encoded data removed]",
            "text/plain": [
              "<Figure size 720x432 with 1 Axes>"
            ]
          },
          "metadata": {
            "tags": []
          }
        }
      ]
    },
    {
      "cell_type": "code",
      "metadata": {
        "id": "g_Vm61o76EM2",
        "colab_type": "code",
        "outputId": "b03e87b1-241e-4b34-e180-c8c287f1d4c1",
        "colab": {
          "base_uri": "https://localhost:8080/",
          "height": 390
        }
      },
      "source": [
        "scoresCONVNet1[['loss', \"val_loss\"]].plot(figsize=(10, 6), title=\"LOSS CURVES\");"
      ],
      "execution_count": 41,
      "outputs": [
        {
          "output_type": "display_data",
          "data": {
            "image/png": "[encoded data removed]",
            "text/plain": [
              "<Figure size 720x432 with 1 Axes>"
            ]
          },
          "metadata": {
            "tags": []
          }
        }
      ]
    },
    {
      "cell_type": "markdown",
      "metadata": {
        "id": "YZ3wXfm00d1m",
        "colab_type": "text"
      },
      "source": [
        "Tal como se aprecia en los dos gráficos anteriores, el modelo parece que presenta un ligero problema de over-fitting a partir de la iteración 10. Aún así, habida cuenta de los elevados resultados obtenidos en la accuracy de validación (>99%), el problema no es preocupante. \n",
        "\n",
        "Aún así, se podría haber recurrido a la técnica de EarlyStopping para parar las iteraciones una vez visto que las curvas de entrenamiento y validación se separan y así haberse ahorrado 10 iteraciones. Esto se realizaría en Keras introduciendo un objeto Callback de EarlyStopping en la función fit. Al tratarse de un problema sencillo no se llevará a cabo esta técnica. "
      ]
    },
    {
      "cell_type": "markdown",
      "metadata": {
        "id": "V1uZKz7IgDiF",
        "colab_type": "text"
      },
      "source": [
        "### Prediciones"
      ]
    },
    {
      "cell_type": "markdown",
      "metadata": {
        "id": "cTDKNJkegTWP",
        "colab_type": "text"
      },
      "source": [
        "El método **predict** devuelve un vector con las predicciones para los elementos del conjunto de datos completo. Podemos saber qué clase da la mayor probabilidad de pertenencia mediante la función argmax de Numpy. Que devuelve el índice de la posición que contiene el valor más alto del vector.\n",
        "\n",
        "Como ejemplo se van a predecir los 20 imágenes elegidas al azar de los datos test y comparar con el valor real. "
      ]
    },
    {
      "cell_type": "code",
      "metadata": {
        "id": "NMfxGNw-9wD4",
        "colab_type": "code",
        "colab": {
          "base_uri": "https://localhost:8080/",
          "height": 153
        },
        "outputId": "1c3c545e-8a94-4afd-a092-2d5498ed5b9e"
      },
      "source": [
        "imgs, n_imgs = pred_num(modelCONVNet1, 20)"
      ],
      "execution_count": 42,
      "outputs": [
        {
          "output_type": "stream",
          "text": [
            "Las imágenes a predecir de x_test tienen como índice: [3797 9614 5010 5670 8766 4352 1441 1193 2284 8123 9633 7307 3360 2593\n",
            " 8265 5250 9673 8317 2760 5786]\n",
            "\n",
            "La predicción de la clase sobre esas imágenes da como resultado: [5 3 6 7 3 3 8 1 3 6 0 7 7 0 7 2 8 4 9 1]\n",
            "\n",
            "Las clases reales sobre esas imágenes son: [5 3 6 7 3 3 8 1 3 6 0 7 7 0 7 2 8 4 9 1]\n",
            "\n",
            "Se comprueba que la accuracy para las 20 imágenes elegidas al azar es de 1.00\n"
          ],
          "name": "stdout"
        }
      ]
    },
    {
      "cell_type": "code",
      "metadata": {
        "id": "-AVQOBd2gvPj",
        "colab_type": "code",
        "colab": {
          "base_uri": "https://localhost:8080/",
          "height": 98
        },
        "outputId": "dccd0b46-c774-48d1-c26c-0fa1f39fa001"
      },
      "source": [
        "fig, axs = plt.subplots(1, n_imgs, figsize=(20, 3))\n",
        "for img, ax in zip(imgs, axs):\n",
        "    ax.imshow(np.squeeze(x_test[img]), cmap=\"gray\")\n",
        "plt.show()"
      ],
      "execution_count": 43,
      "outputs": [
        {
          "output_type": "display_data",
          "data": {
            "image/png": "[encoded data removed]",
            "text/plain": [
              "<Figure size 1440x216 with 20 Axes>"
            ]
          },
          "metadata": {
            "tags": []
          }
        }
      ]
    },
    {
      "cell_type": "markdown",
      "metadata": {
        "id": "9UK2Yrpr2axV",
        "colab_type": "text"
      },
      "source": [
        "El siguiente código presenta la matriz de confusión."
      ]
    },
    {
      "cell_type": "code",
      "metadata": {
        "id": "SxwnCuqLqtF4",
        "colab_type": "code",
        "colab": {
          "base_uri": "https://localhost:8080/",
          "height": 311
        },
        "outputId": "d55bb9cb-8ee9-4e53-c490-1e8545b0bb48"
      },
      "source": [
        "# Predict the values from the validation dataset\n",
        "Y_pred = modelCONVNet1.predict(x_test)\n",
        "# Convert predictions classes to one hot vectors \n",
        "Y_pred_classes = np.argmax(Y_pred, axis = 1) \n",
        "# Convert validation observations to one hot vectors\n",
        "Y_true = np.argmax(y_test, axis = 1) \n",
        "# compute the confusion matrix\n",
        "confusion_mtx = confusion_matrix(Y_true, Y_pred_classes) \n",
        "# plot the confusion matrix\n",
        "plot_confusion_matrix(confusion_mtx, classes = range(10))"
      ],
      "execution_count": 44,
      "outputs": [
        {
          "output_type": "display_data",
          "data": {
            "image/png": "[encoded data removed]",
            "text/plain": [
              "<Figure size 432x288 with 2 Axes>"
            ]
          },
          "metadata": {
            "tags": []
          }
        }
      ]
    },
    {
      "cell_type": "markdown",
      "metadata": {
        "id": "Eyp1CgQC074L",
        "colab_type": "text"
      },
      "source": [
        "Finalmente se guarda el modelo."
      ]
    },
    {
      "cell_type": "code",
      "metadata": {
        "id": "2rvAPDad0iSE",
        "colab_type": "code",
        "colab": {}
      },
      "source": [
        "modelCONVNet1.save(\"modelCONVNet1.h5\")"
      ],
      "execution_count": 0,
      "outputs": []
    },
    {
      "cell_type": "markdown",
      "metadata": {
        "id": "KMyhvvMRy2wc",
        "colab_type": "text"
      },
      "source": [
        "## Conclusiones"
      ]
    },
    {
      "cell_type": "markdown",
      "metadata": {
        "id": "PJuOKgOcTh_m",
        "colab_type": "text"
      },
      "source": [
        "Resumiendo los principales indicadores de los dos modelos realizados:\n"
      ]
    },
    {
      "cell_type": "markdown",
      "metadata": {
        "id": "zS2-H2rK1Z8H",
        "colab_type": "text"
      },
      "source": [
        "En cuanto a los resultados **red profunda** se tiene que:"
      ]
    },
    {
      "cell_type": "code",
      "metadata": {
        "id": "RH5Izf4keoSy",
        "colab_type": "code",
        "colab": {
          "base_uri": "https://localhost:8080/",
          "height": 85
        },
        "outputId": "e6463700-d010-4289-cce4-1b0fc56a762e"
      },
      "source": [
        "print('Test accuracy:', accANN1)\n",
        "print('Test recall:', recallANN1)\n",
        "print('Test precision:', precisionANN1)\n",
        "print('Test F1:', f1ANN1)"
      ],
      "execution_count": 53,
      "outputs": [
        {
          "output_type": "stream",
          "text": [
            "Test accuracy: 0.959\n",
            "Test recall: 0.9547\n",
            "Test precision: 0.9642517358779907\n",
            "Test F1: 0.9593636312484741\n"
          ],
          "name": "stdout"
        }
      ]
    },
    {
      "cell_type": "markdown",
      "metadata": {
        "id": "iibbIg9N1Zc4",
        "colab_type": "text"
      },
      "source": [
        "mientras que para la **red convolucional** se tiene"
      ]
    },
    {
      "cell_type": "code",
      "metadata": {
        "id": "USpF_WmCe0fv",
        "colab_type": "code",
        "colab": {
          "base_uri": "https://localhost:8080/",
          "height": 85
        },
        "outputId": "6ae91c5f-57d5-4a24-c11f-203333d3454c"
      },
      "source": [
        "print('Test accuracy:', accCONVNet1)\n",
        "print('Test recall:', recallCONVNet1)\n",
        "print('Test precision:', precisionCONVNet1)\n",
        "print('Test F1:', f1CONVNet1)"
      ],
      "execution_count": 54,
      "outputs": [
        {
          "output_type": "stream",
          "text": [
            "Test accuracy: 0.9906\n",
            "Test recall: 0.9904\n",
            "Test precision: 0.9906903224945068\n",
            "Test F1: 0.9905428426742554\n"
          ],
          "name": "stdout"
        }
      ]
    },
    {
      "cell_type": "markdown",
      "metadata": {
        "id": "qKD9mNlIfXw2",
        "colab_type": "text"
      },
      "source": [
        "Si se comparan los resultados anteriores cláramente obtiene mejores resultados la red convolucional. \n",
        "\n",
        "En cuanto a la accuracy, la red clasica obtiene valores próximos al 96% mientras que la convolucional de por encima del 99%. \n",
        "\n",
        "Destaca, si se observan las curvas de entrenamiento, la rapidez con que la red convolucional adquire valores elevados de la accuracy. Se observa cómo después del tercer epoch  se alcanzan valores superiores al 98% mientras. Lo mismo se podría decir para la función de pérdida pero en cuanto a rapidez de decrecimiento.\n",
        "\n",
        "En cuanto al resto de métricas (recall, precision, F1) la red convolucional presenta también mejores resultados, presentando valores bajos (sobre el 1%) de ejemplares mal clasificados.\n",
        "\n",
        "Destacar tambien, en cuanto al número de parámetros de red, que la red convolucional posee un total de **110.986** mientras que, la clásica, tiene **567.434**, esto un cinco veces más parámetros que la primera.\n",
        "\n",
        "Con todo lo anterior, se aprecian las ventajas de usar arquitecturas basadas en capas convolucionales cuando se trata de resolver problemas relacionados con la imagen, etc."
      ]
    },
    {
      "cell_type": "code",
      "metadata": {
        "id": "74KnYNYMhraa",
        "colab_type": "code",
        "colab": {}
      },
      "source": [
        ""
      ],
      "execution_count": 0,
      "outputs": []
    }
  ]
}